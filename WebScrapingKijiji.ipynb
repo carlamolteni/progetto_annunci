{
 "cells": [
  {
   "cell_type": "markdown",
   "metadata": {},
   "source": [
    "# Web Scraping del sito Kijiji\n",
    "\n",
    "\n",
    "\n",
    "## Import delle librerie\n"
   ]
  },
  {
   "cell_type": "code",
   "execution_count": 1,
   "metadata": {},
   "outputs": [],
   "source": [
    "import requests\n",
    "import bs4\n",
    "import csv\n",
    "from tqdm import tqdm_notebook as tqdm\n",
    "import json\n",
    "import pprint\n",
    "import re"
   ]
  },
  {
   "cell_type": "markdown",
   "metadata": {},
   "source": [
    "## Definizione url di riferimento\n",
    "\n",
    "Per semplificare il progetto la ricerca riguarderà tutti gli annunci trovati filtrando per regione Lombardia e prodotto iPhone.\n"
   ]
  },
  {
   "cell_type": "code",
   "execution_count": 2,
   "metadata": {},
   "outputs": [],
   "source": [
    "webpage = f\"https://www.kijiji.it/annunci-lombardia/iphone/?p=1\""
   ]
  },
  {
   "cell_type": "markdown",
   "metadata": {},
   "source": [
    "Cerco tutti gli annunci nella pagina:"
   ]
  },
  {
   "cell_type": "code",
   "execution_count": 3,
   "metadata": {},
   "outputs": [],
   "source": [
    "response = requests.get(webpage)\n",
    "doc = bs4.BeautifulSoup(response.text, \"lxml\")\n",
    "annunci = doc.find_all('li', class_=\"result\")"
   ]
  },
  {
   "cell_type": "code",
   "execution_count": 4,
   "metadata": {},
   "outputs": [
    {
     "data": {
      "text/plain": [
       "26"
      ]
     },
     "execution_count": 4,
     "metadata": {},
     "output_type": "execute_result"
    }
   ],
   "source": [
    "len(annunci)"
   ]
  },
  {
   "cell_type": "markdown",
   "metadata": {},
   "source": [
    "Ci sono 26 annunci nella pagina!\n",
    "\n",
    "Test del codice per lo scarico delle prime informazioni nella pagina di ricerca degli annunci:"
   ]
  },
  {
   "cell_type": "code",
   "execution_count": 5,
   "metadata": {},
   "outputs": [
    {
     "name": "stdout",
     "output_type": "stream",
     "text": [
      "{'id': '138808297', 'titolo': 'Iphone xs max 512GB', 'link': 'https://www.kijiji.it/annunci/cellulari-e-accessori/como-annunci-como/iphone-xs-max/138808297', 'prezzo': '890', 'data': 'Oggi, 09:04', 'paese': 'Como'}\n"
     ]
    }
   ],
   "source": [
    "annunci_list = []\n",
    "for annuncio in annunci:\n",
    "    try:\n",
    "        titolo = annuncio.select(\"h3.title > a\")[0].text.replace(\"\\n\", \"\").strip()\n",
    "    except:\n",
    "        continue\n",
    "    url = annuncio[\"data-href\"]\n",
    "    annuncio_id = annuncio[\"data-id\"]\n",
    "    try:\n",
    "        prezzo = annuncio.select(\"div.item-content > h4.price\")[0].text.replace(\"\\n\", \"\").replace(\"€\",\"\").strip()\n",
    "    except:\n",
    "        prezzo = \"N/A\"\n",
    "    try:\n",
    "        data = annuncio.select(\"div.item-content > p.timestamp\")[0].text\n",
    "    except:\n",
    "        data = \"N/A\"\n",
    "    try:\n",
    "        paese = annuncio.select(\"div.item-content > p.locale\")[0].text\n",
    "    except:\n",
    "        paese = \"N/A\"\n",
    "    annunci_list.append({'id': annuncio_id, 'titolo': titolo, 'link': url, \n",
    "                         'prezzo': prezzo, 'data': data, 'paese' :paese})\n",
    "    \n",
    "print(annunci_list[0])"
   ]
  },
  {
   "cell_type": "markdown",
   "metadata": {},
   "source": [
    "Ok, ora posso definire la funzione per il parsing generico degli annunci:"
   ]
  },
  {
   "cell_type": "code",
   "execution_count": 6,
   "metadata": {},
   "outputs": [],
   "source": [
    "\n",
    "def parse_annuncio(annuncio):\n",
    "    try:\n",
    "        titolo = annuncio.select(\"h3.title > a\")[0].text.replace(\"\\n\", \"\").strip()\n",
    "    except:\n",
    "        return None\n",
    "    url = annuncio[\"data-href\"]\n",
    "    annuncio_id = annuncio[\"data-id\"]\n",
    "    try:\n",
    "        prezzo = annuncio.select(\"div.item-content > h4.price\")[0].text.replace(\"\\n\", \"\").replace(\"€\",\"\").strip()\n",
    "    except:\n",
    "        prezzo = \"N/A\"\n",
    "    try:\n",
    "        data = annuncio.select(\"div.item-content > p.timestamp\")[0].text\n",
    "    except:\n",
    "        data = \"N/A\"\n",
    "    try:\n",
    "        paese = annuncio.select(\"div.item-content > p.locale\")[0].text\n",
    "    except:\n",
    "        paese = \"N/A\"\n",
    "    return {'id': annuncio_id, 'titolo': titolo, 'link': url, \n",
    "                         'prezzo': prezzo, 'data': data, 'paese' :paese}\n"
   ]
  },
  {
   "cell_type": "markdown",
   "metadata": {},
   "source": [
    "In un ciclo for gestisco il download degli annunci per ogni pagina:"
   ]
  },
  {
   "cell_type": "code",
   "execution_count": 7,
   "metadata": {},
   "outputs": [
    {
     "data": {
      "application/vnd.jupyter.widget-view+json": {
       "model_id": "0e4527024b454867a91d29da2b59a0c0",
       "version_major": 2,
       "version_minor": 0
      },
      "text/plain": [
       "A Jupyter Widget"
      ]
     },
     "metadata": {},
     "output_type": "display_data"
    },
    {
     "name": "stdout",
     "output_type": "stream",
     "text": [
      "\n",
      "26\n"
     ]
    }
   ],
   "source": [
    "annunci_list = []\n",
    "for num in tqdm(range(1,11)):\n",
    "    webpage = f\"https://www.kijiji.it/annunci-lombardia/iphone/?p={num}\"\n",
    "    response = requests.get(webpage)\n",
    "    doc = bs4.BeautifulSoup(response.text, \"lxml\")\n",
    "    annunci = doc.find_all('li', class_=\"result\")\n",
    "    for annuncio in annunci:\n",
    "        annunci_list.append(parse_annuncio(annuncio))\n",
    "\n",
    "print(len(annunci_list))\n",
    "        "
   ]
  },
  {
   "cell_type": "markdown",
   "metadata": {},
   "source": [
    "## Come terminare lo scraping?\n",
    "\n",
    "Problema: *quando mi fermo?*\n",
    "- cerco all'interno della pagina il numero totale di pagine\n"
   ]
  },
  {
   "cell_type": "code",
   "execution_count": 8,
   "metadata": {},
   "outputs": [
    {
     "name": "stdout",
     "output_type": "stream",
     "text": [
      "45\n"
     ]
    }
   ],
   "source": [
    "firstpage = f\"https://www.kijiji.it/annunci-lombardia/iphone/?p=1\"\n",
    "firstresponse = requests.get(firstpage)\n",
    "firstdoc = bs4.BeautifulSoup(firstresponse.text, \"lxml\")\n",
    "pagecount = int(firstdoc.select(\"#pagination > div > a.last-page\")[0].text)\n",
    "print(pagecount)"
   ]
  },
  {
   "cell_type": "code",
   "execution_count": 9,
   "metadata": {},
   "outputs": [
    {
     "data": {
      "application/vnd.jupyter.widget-view+json": {
       "model_id": "81f13f7bda5a4fde8c569fe82aae717c",
       "version_major": 2,
       "version_minor": 0
      },
      "text/plain": [
       "A Jupyter Widget"
      ]
     },
     "metadata": {},
     "output_type": "display_data"
    },
    {
     "name": "stdout",
     "output_type": "stream",
     "text": [
      "\n"
     ]
    }
   ],
   "source": [
    "annunci_list = []\n",
    "annunci_letti = 0\n",
    "num = 0\n",
    "for num in tqdm(range(1,2)):\n",
    "    num = num + 1\n",
    "    webpage = f\"https://www.kijiji.it/annunci-lombardia/iphone/?p={num}\"\n",
    "    response = requests.get(webpage)\n",
    "    doc = bs4.BeautifulSoup(response.text, \"lxml\")\n",
    "    annunci = doc.find_all('li', class_=\"result\")\n",
    "    for annuncio in annunci:\n",
    "        try:\n",
    "            annuncio_parsed = parse_annuncio(annuncio)\n",
    "            if annuncio_parsed is not None:\n",
    "                annunci_list.append(annuncio_parsed)\n",
    "        except:\n",
    "            pass\n",
    "    annunci_letti = len(annunci_list)"
   ]
  },
  {
   "cell_type": "markdown",
   "metadata": {},
   "source": [
    "## Pandas\n",
    "Utilizzo la libreria Pandas per salvare i risultati in un file csv:"
   ]
  },
  {
   "cell_type": "code",
   "execution_count": 10,
   "metadata": {},
   "outputs": [
    {
     "data": {
      "text/html": [
       "<div>\n",
       "<style>\n",
       "    .dataframe thead tr:only-child th {\n",
       "        text-align: right;\n",
       "    }\n",
       "\n",
       "    .dataframe thead th {\n",
       "        text-align: left;\n",
       "    }\n",
       "\n",
       "    .dataframe tbody tr th {\n",
       "        vertical-align: top;\n",
       "    }\n",
       "</style>\n",
       "<table border=\"1\" class=\"dataframe\">\n",
       "  <thead>\n",
       "    <tr style=\"text-align: right;\">\n",
       "      <th></th>\n",
       "      <th>data</th>\n",
       "      <th>id</th>\n",
       "      <th>link</th>\n",
       "      <th>paese</th>\n",
       "      <th>prezzo</th>\n",
       "      <th>titolo</th>\n",
       "    </tr>\n",
       "  </thead>\n",
       "  <tbody>\n",
       "    <tr>\n",
       "      <th>0</th>\n",
       "      <td>Oggi, 09:04</td>\n",
       "      <td>138808297</td>\n",
       "      <td>https://www.kijiji.it/annunci/cellulari-e-acce...</td>\n",
       "      <td>Como</td>\n",
       "      <td>890</td>\n",
       "      <td>Iphone xs max 512GB</td>\n",
       "    </tr>\n",
       "    <tr>\n",
       "      <th>1</th>\n",
       "      <td>Ieri, 11:43</td>\n",
       "      <td>138705039</td>\n",
       "      <td>https://www.kijiji.it/annunci/cellulari-e-acce...</td>\n",
       "      <td>Maciachini / Zara / Niguarda</td>\n",
       "      <td>400</td>\n",
       "      <td>IPhone 8 (2018) Nero - 64GB</td>\n",
       "    </tr>\n",
       "    <tr>\n",
       "      <th>2</th>\n",
       "      <td>17 giugno, 20:13</td>\n",
       "      <td>139532342</td>\n",
       "      <td>https://www.kijiji.it/annunci/cellulari-e-acce...</td>\n",
       "      <td>Sempione / Certosa</td>\n",
       "      <td>270</td>\n",
       "      <td>IPhone 7 32 Gb Gold</td>\n",
       "    </tr>\n",
       "    <tr>\n",
       "      <th>3</th>\n",
       "      <td>17 giugno, 20:03</td>\n",
       "      <td>139529157</td>\n",
       "      <td>https://www.kijiji.it/annunci/cellulari-e-acce...</td>\n",
       "      <td>Mezzago</td>\n",
       "      <td>1.150</td>\n",
       "      <td>IPhone XS 512 gb colore silver nuovo</td>\n",
       "    </tr>\n",
       "    <tr>\n",
       "      <th>4</th>\n",
       "      <td>17 giugno, 20:03</td>\n",
       "      <td>139529109</td>\n",
       "      <td>https://www.kijiji.it/annunci/cellulari-e-acce...</td>\n",
       "      <td>Mezzago</td>\n",
       "      <td>900</td>\n",
       "      <td>IPhone XS 64 gb space gray nuovo</td>\n",
       "    </tr>\n",
       "  </tbody>\n",
       "</table>\n",
       "</div>"
      ],
      "text/plain": [
       "               data         id  \\\n",
       "0       Oggi, 09:04  138808297   \n",
       "1       Ieri, 11:43  138705039   \n",
       "2  17 giugno, 20:13  139532342   \n",
       "3  17 giugno, 20:03  139529157   \n",
       "4  17 giugno, 20:03  139529109   \n",
       "\n",
       "                                                link  \\\n",
       "0  https://www.kijiji.it/annunci/cellulari-e-acce...   \n",
       "1  https://www.kijiji.it/annunci/cellulari-e-acce...   \n",
       "2  https://www.kijiji.it/annunci/cellulari-e-acce...   \n",
       "3  https://www.kijiji.it/annunci/cellulari-e-acce...   \n",
       "4  https://www.kijiji.it/annunci/cellulari-e-acce...   \n",
       "\n",
       "                          paese prezzo                                titolo  \n",
       "0                          Como    890                   Iphone xs max 512GB  \n",
       "1  Maciachini / Zara / Niguarda    400           IPhone 8 (2018) Nero - 64GB  \n",
       "2            Sempione / Certosa    270                   IPhone 7 32 Gb Gold  \n",
       "3                       Mezzago  1.150  IPhone XS 512 gb colore silver nuovo  \n",
       "4                       Mezzago    900      IPhone XS 64 gb space gray nuovo  "
      ]
     },
     "execution_count": 10,
     "metadata": {},
     "output_type": "execute_result"
    }
   ],
   "source": [
    "import pandas as pd\n",
    "ds_annunci = pd.DataFrame(annunci_list)\n",
    "ds_annunci.set_index(\"id\")\n",
    "ds_annunci.head()"
   ]
  },
  {
   "cell_type": "code",
   "execution_count": 11,
   "metadata": {},
   "outputs": [],
   "source": [
    "ds_annunci.to_csv(\"./kijiji_annunci.csv\")"
   ]
  },
  {
   "cell_type": "markdown",
   "metadata": {},
   "source": [
    "## Le pagine degli annunci ###\n",
    "Ora l'obiettivo è scaricare i dettagli dei singoli annunci e le foto.\n",
    "# Geocoding\n",
    "Per avere una maggiore precisione riguardo all'informazione geografica degli annunci, richiamo il servizio di geocoding in modo da ottenere una geolocalizzazione più strutturata.\n"
   ]
  },
  {
   "cell_type": "code",
   "execution_count": 12,
   "metadata": {},
   "outputs": [
    {
     "data": {
      "text/html": [
       "<div>\n",
       "<style>\n",
       "    .dataframe thead tr:only-child th {\n",
       "        text-align: right;\n",
       "    }\n",
       "\n",
       "    .dataframe thead th {\n",
       "        text-align: left;\n",
       "    }\n",
       "\n",
       "    .dataframe tbody tr th {\n",
       "        vertical-align: top;\n",
       "    }\n",
       "</style>\n",
       "<table border=\"1\" class=\"dataframe\">\n",
       "  <thead>\n",
       "    <tr style=\"text-align: right;\">\n",
       "      <th></th>\n",
       "      <th>Unnamed: 0</th>\n",
       "      <th>data</th>\n",
       "      <th>link</th>\n",
       "      <th>paese</th>\n",
       "      <th>prezzo</th>\n",
       "      <th>titolo</th>\n",
       "    </tr>\n",
       "    <tr>\n",
       "      <th>id</th>\n",
       "      <th></th>\n",
       "      <th></th>\n",
       "      <th></th>\n",
       "      <th></th>\n",
       "      <th></th>\n",
       "      <th></th>\n",
       "    </tr>\n",
       "  </thead>\n",
       "  <tbody>\n",
       "    <tr>\n",
       "      <th>138808297</th>\n",
       "      <td>0</td>\n",
       "      <td>Oggi, 09:04</td>\n",
       "      <td>https://www.kijiji.it/annunci/cellulari-e-acce...</td>\n",
       "      <td>Como</td>\n",
       "      <td>890.00</td>\n",
       "      <td>Iphone xs max 512GB</td>\n",
       "    </tr>\n",
       "    <tr>\n",
       "      <th>138705039</th>\n",
       "      <td>1</td>\n",
       "      <td>Ieri, 11:43</td>\n",
       "      <td>https://www.kijiji.it/annunci/cellulari-e-acce...</td>\n",
       "      <td>Maciachini / Zara / Niguarda</td>\n",
       "      <td>400.00</td>\n",
       "      <td>IPhone 8 (2018) Nero - 64GB</td>\n",
       "    </tr>\n",
       "    <tr>\n",
       "      <th>139532342</th>\n",
       "      <td>2</td>\n",
       "      <td>17 giugno, 20:13</td>\n",
       "      <td>https://www.kijiji.it/annunci/cellulari-e-acce...</td>\n",
       "      <td>Sempione / Certosa</td>\n",
       "      <td>270.00</td>\n",
       "      <td>IPhone 7 32 Gb Gold</td>\n",
       "    </tr>\n",
       "    <tr>\n",
       "      <th>139529157</th>\n",
       "      <td>3</td>\n",
       "      <td>17 giugno, 20:03</td>\n",
       "      <td>https://www.kijiji.it/annunci/cellulari-e-acce...</td>\n",
       "      <td>Mezzago</td>\n",
       "      <td>1.15</td>\n",
       "      <td>IPhone XS 512 gb colore silver nuovo</td>\n",
       "    </tr>\n",
       "    <tr>\n",
       "      <th>139529109</th>\n",
       "      <td>4</td>\n",
       "      <td>17 giugno, 20:03</td>\n",
       "      <td>https://www.kijiji.it/annunci/cellulari-e-acce...</td>\n",
       "      <td>Mezzago</td>\n",
       "      <td>900.00</td>\n",
       "      <td>IPhone XS 64 gb space gray nuovo</td>\n",
       "    </tr>\n",
       "  </tbody>\n",
       "</table>\n",
       "</div>"
      ],
      "text/plain": [
       "           Unnamed: 0              data  \\\n",
       "id                                        \n",
       "138808297           0       Oggi, 09:04   \n",
       "138705039           1       Ieri, 11:43   \n",
       "139532342           2  17 giugno, 20:13   \n",
       "139529157           3  17 giugno, 20:03   \n",
       "139529109           4  17 giugno, 20:03   \n",
       "\n",
       "                                                        link  \\\n",
       "id                                                             \n",
       "138808297  https://www.kijiji.it/annunci/cellulari-e-acce...   \n",
       "138705039  https://www.kijiji.it/annunci/cellulari-e-acce...   \n",
       "139532342  https://www.kijiji.it/annunci/cellulari-e-acce...   \n",
       "139529157  https://www.kijiji.it/annunci/cellulari-e-acce...   \n",
       "139529109  https://www.kijiji.it/annunci/cellulari-e-acce...   \n",
       "\n",
       "                                  paese  prezzo  \\\n",
       "id                                                \n",
       "138808297                          Como  890.00   \n",
       "138705039  Maciachini / Zara / Niguarda  400.00   \n",
       "139532342            Sempione / Certosa  270.00   \n",
       "139529157                       Mezzago    1.15   \n",
       "139529109                       Mezzago  900.00   \n",
       "\n",
       "                                         titolo  \n",
       "id                                               \n",
       "138808297                   Iphone xs max 512GB  \n",
       "138705039           IPhone 8 (2018) Nero - 64GB  \n",
       "139532342                   IPhone 7 32 Gb Gold  \n",
       "139529157  IPhone XS 512 gb colore silver nuovo  \n",
       "139529109      IPhone XS 64 gb space gray nuovo  "
      ]
     },
     "execution_count": 12,
     "metadata": {},
     "output_type": "execute_result"
    }
   ],
   "source": [
    "import json\n",
    "# apro il file csv\n",
    "import pandas as pd\n",
    "ds_annunci = pd.read_csv(\"./kijiji_annunci.csv\",encoding = \"ISO-8859-1\", index_col=\"id\")\n",
    "ds_annunci.head()"
   ]
  },
  {
   "cell_type": "markdown",
   "metadata": {},
   "source": [
    "Per ogni annuncio vado a richiamare il link e a procedere con lo scarico dalla pagina di dettaglio:"
   ]
  },
  {
   "cell_type": "code",
   "execution_count": 15,
   "metadata": {},
   "outputs": [
    {
     "data": {
      "application/vnd.jupyter.widget-view+json": {
       "model_id": "955fc75e47be48369393631003a26b25",
       "version_major": 2,
       "version_minor": 0
      },
      "text/plain": [
       "A Jupyter Widget"
      ]
     },
     "metadata": {},
     "output_type": "display_data"
    },
    {
     "name": "stdout",
     "output_type": "stream",
     "text": [
      "\n"
     ]
    }
   ],
   "source": [
    "dettagli = []\n",
    "for annuncio_id, annuncio in tqdm(ds_annunci.iterrows(), total=ds_annunci.shape[0]):\n",
    "    dettagli_row = {}\n",
    "    link = annuncio[\"link\"]\n",
    "    response = requests.get(link)\n",
    "    doc = bs4.BeautifulSoup(response.text, \"lxml\")\n",
    "    try:\n",
    "        descrizione = doc.select(\"article.vip__carousel > div.box__content > div > p.vip__text-description\")[0].text.replace('\\n', ' ').strip()\n",
    "    except:\n",
    "        continue\n",
    "    try:\n",
    "        nome_venditore = doc.select(\"article.user > div.media__body > div.title\")[0].text.replace('\\n', ' ').strip()\n",
    "    except:\n",
    "        nome_venditore = \"N/A\"\n",
    "    try: \n",
    "        phone = doc.select(\"h3.modal-phone__text\")[0].text.replace('\\n', ' ').strip().replace(\"+\", \"00\")\n",
    "    except:\n",
    "        phone = 'N/A'\n",
    "    try: \n",
    "        userId = doc.select(\"div.user__bottom > a\")[0][\"href\"].split(\"/\")[-1]\n",
    "    except:\n",
    "        userId = 'N/A'\n",
    "    id_ad = doc.select(\"li.breadcrumbs__leaf > strong\")[0].text.replace('\\n', ' ').strip()\n",
    "    try:\n",
    "        location = doc.select(\"div.vip__location > div > div > span\")[0].text.replace('\\n', ' ').strip()\n",
    "    except: \n",
    "        location1 = doc.select(\"div.vip__location\")[0]\n",
    "        location =location1.select(\"div > span\")[0].text\n",
    "    dettagli_row.update({'descrizione': descrizione,  'nome_venditore': nome_venditore,\n",
    "                        'phone': phone, 'userId':userId, 'id_ad':id_ad, 'location': location})\n",
    "    details = doc.select(\"section.vip__details > dl\")\n",
    "    new_table = pd.DataFrame(columns=range(0,2), index = [0]) # I know the size \n",
    "    row_marker = 0\n",
    "    for row in details:\n",
    "        #column_marker = 0\n",
    "        label = row.find_all('dt')[0].text.replace('\\n', ' ').strip()\n",
    "        value = row.find_all('dd')[0].text.replace('\\n', ' ').strip()\n",
    "        dettagli_row.update({label:value})\n",
    "    ## geocoding\n",
    "    lat = \"\"\n",
    "    lon = \"\"\n",
    "    try:\n",
    "        key = \"T4eqDjtnpzWsfeMBZgKAqKobvcICurpU\"\n",
    "        geocode_url = f\"http://www.mapquestapi.com/geocoding/v1/address?key={key}&location={dettagli_row.get('location')}\"\n",
    "        response = requests.get(geocode_url)\n",
    "        geo = json.loads(response.text)\n",
    "        lat = geo['results'][0]['locations'][0]['latLng']['lat']\n",
    "        lon = geo['results'][0]['locations'][0]['latLng']['lng']\n",
    "    except:\n",
    "        pass\n",
    "    #scarico le immagini\n",
    "    docImg = doc.select(\"section.vip__body > article.vip__carousel > div.carousel-slide \")[0]\n",
    "    imgs = docImg.find_all(\"img\")\n",
    "    i = 0\n",
    "    for img in imgs:\n",
    "        src = img['src']\n",
    "        img_file = requests.get(src, stream=True)\n",
    "        if img_file.status_code == 200:\n",
    "            with open(\"./img_kijiji/img_\" + str(id_ad) + \"_\" + str(i) + \".jpg\", 'wb') as f:\n",
    "                f.write(img_file.content)\n",
    "            i = i+1\n",
    "    dettagli_row.update({\"lat\": lat, \"lon\": lon})\n",
    "    dettagli.append(dettagli_row)"
   ]
  },
  {
   "cell_type": "code",
   "execution_count": 16,
   "metadata": {},
   "outputs": [
    {
     "data": {
      "text/html": [
       "<div>\n",
       "<style>\n",
       "    .dataframe thead tr:only-child th {\n",
       "        text-align: right;\n",
       "    }\n",
       "\n",
       "    .dataframe thead th {\n",
       "        text-align: left;\n",
       "    }\n",
       "\n",
       "    .dataframe tbody tr th {\n",
       "        vertical-align: top;\n",
       "    }\n",
       "</style>\n",
       "<table border=\"1\" class=\"dataframe\">\n",
       "  <thead>\n",
       "    <tr style=\"text-align: right;\">\n",
       "      <th></th>\n",
       "      <th>Marca</th>\n",
       "      <th>Tipologia</th>\n",
       "      <th>descrizione</th>\n",
       "      <th>id_ad</th>\n",
       "      <th>lat</th>\n",
       "      <th>location</th>\n",
       "      <th>lon</th>\n",
       "      <th>nome_venditore</th>\n",
       "      <th>phone</th>\n",
       "      <th>userId</th>\n",
       "    </tr>\n",
       "  </thead>\n",
       "  <tbody>\n",
       "    <tr>\n",
       "      <th>0</th>\n",
       "      <td>Apple</td>\n",
       "      <td>Cellulari</td>\n",
       "      <td>Iphone xs max da 512 gb , acquistato alla medi...</td>\n",
       "      <td>138808297</td>\n",
       "      <td>45.810681</td>\n",
       "      <td>Como (Como)</td>\n",
       "      <td>9.086303</td>\n",
       "      <td>Getuar</td>\n",
       "      <td>00393347324251</td>\n",
       "      <td>26440510</td>\n",
       "    </tr>\n",
       "    <tr>\n",
       "      <th>1</th>\n",
       "      <td>Apple</td>\n",
       "      <td>Cellulari</td>\n",
       "      <td>Vendo iPhone 8 regalato a gennaio 2018, tenuto...</td>\n",
       "      <td>138705039</td>\n",
       "      <td>45.466797</td>\n",
       "      <td>Milano (Milano)</td>\n",
       "      <td>9.190498</td>\n",
       "      <td>Filippo</td>\n",
       "      <td>00393408674227</td>\n",
       "      <td>26431725</td>\n",
       "    </tr>\n",
       "    <tr>\n",
       "      <th>2</th>\n",
       "      <td>Apple</td>\n",
       "      <td>Cellulari</td>\n",
       "      <td>Vendo iPhone 7 32 Gb Gold, tenuto sempre con l...</td>\n",
       "      <td>139532342</td>\n",
       "      <td>45.466797</td>\n",
       "      <td>Milano (Milano)</td>\n",
       "      <td>9.190498</td>\n",
       "      <td>Adriano</td>\n",
       "      <td>00393409554474</td>\n",
       "      <td>10956731</td>\n",
       "    </tr>\n",
       "    <tr>\n",
       "      <th>3</th>\n",
       "      <td>Apple</td>\n",
       "      <td>Cellulari</td>\n",
       "      <td>In vendita un iPhone XS 512 gb silver nuovo si...</td>\n",
       "      <td>139529157</td>\n",
       "      <td>45.616030</td>\n",
       "      <td>Mezzago (Monza/Brianza)</td>\n",
       "      <td>9.447920</td>\n",
       "      <td>Dina</td>\n",
       "      <td>N/A</td>\n",
       "      <td>3532037</td>\n",
       "    </tr>\n",
       "    <tr>\n",
       "      <th>4</th>\n",
       "      <td>Apple</td>\n",
       "      <td>Cellulari</td>\n",
       "      <td>Vendo un iPhone XS 64 gb colore space gray nuo...</td>\n",
       "      <td>139529109</td>\n",
       "      <td>45.616030</td>\n",
       "      <td>Mezzago (Monza/Brianza)</td>\n",
       "      <td>9.447920</td>\n",
       "      <td>Dina</td>\n",
       "      <td>N/A</td>\n",
       "      <td>3532037</td>\n",
       "    </tr>\n",
       "  </tbody>\n",
       "</table>\n",
       "</div>"
      ],
      "text/plain": [
       "   Marca  Tipologia                                        descrizione  \\\n",
       "0  Apple  Cellulari  Iphone xs max da 512 gb , acquistato alla medi...   \n",
       "1  Apple  Cellulari  Vendo iPhone 8 regalato a gennaio 2018, tenuto...   \n",
       "2  Apple  Cellulari  Vendo iPhone 7 32 Gb Gold, tenuto sempre con l...   \n",
       "3  Apple  Cellulari  In vendita un iPhone XS 512 gb silver nuovo si...   \n",
       "4  Apple  Cellulari  Vendo un iPhone XS 64 gb colore space gray nuo...   \n",
       "\n",
       "       id_ad        lat                 location       lon nome_venditore  \\\n",
       "0  138808297  45.810681              Como (Como)  9.086303         Getuar   \n",
       "1  138705039  45.466797          Milano (Milano)  9.190498        Filippo   \n",
       "2  139532342  45.466797          Milano (Milano)  9.190498        Adriano   \n",
       "3  139529157  45.616030  Mezzago (Monza/Brianza)  9.447920           Dina   \n",
       "4  139529109  45.616030  Mezzago (Monza/Brianza)  9.447920           Dina   \n",
       "\n",
       "            phone    userId  \n",
       "0  00393347324251  26440510  \n",
       "1  00393408674227  26431725  \n",
       "2  00393409554474  10956731  \n",
       "3             N/A   3532037  \n",
       "4             N/A   3532037  "
      ]
     },
     "execution_count": 16,
     "metadata": {},
     "output_type": "execute_result"
    }
   ],
   "source": [
    "ds_dettagli = pd.DataFrame(dettagli)\n",
    "#ds_dettagli.set_index(\"id\")\n",
    "ds_dettagli.head()"
   ]
  },
  {
   "cell_type": "code",
   "execution_count": 17,
   "metadata": {},
   "outputs": [
    {
     "name": "stdout",
     "output_type": "stream",
     "text": [
      "<class 'pandas.core.frame.DataFrame'>\n",
      "RangeIndex: 5 entries, 0 to 4\n",
      "Data columns (total 10 columns):\n",
      "Marca             5 non-null object\n",
      "Tipologia         5 non-null object\n",
      "descrizione       5 non-null object\n",
      "id_ad             5 non-null object\n",
      "lat               5 non-null float64\n",
      "location          5 non-null object\n",
      "lon               5 non-null float64\n",
      "nome_venditore    5 non-null object\n",
      "phone             5 non-null object\n",
      "userId            5 non-null object\n",
      "dtypes: float64(2), object(8)\n",
      "memory usage: 480.0+ bytes\n"
     ]
    }
   ],
   "source": [
    "ds_dettagli.info()"
   ]
  },
  {
   "cell_type": "code",
   "execution_count": 18,
   "metadata": {},
   "outputs": [],
   "source": [
    "ds_dettagli.to_csv(\"./kijiji_dettagli.csv\")"
   ]
  }
 ],
 "metadata": {
  "kernelspec": {
   "display_name": "Python 3",
   "language": "python",
   "name": "python3"
  },
  "language_info": {
   "codemirror_mode": {
    "name": "ipython",
    "version": 3
   },
   "file_extension": ".py",
   "mimetype": "text/x-python",
   "name": "python",
   "nbconvert_exporter": "python",
   "pygments_lexer": "ipython3",
   "version": "3.6.3"
  }
 },
 "nbformat": 4,
 "nbformat_minor": 2
}
