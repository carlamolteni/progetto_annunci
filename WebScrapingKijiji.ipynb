{
 "cells": [
  {
   "cell_type": "markdown",
   "metadata": {},
   "source": [
    "# Web Scraping del sito Kijiji\n",
    "\n",
    "\n",
    "\n",
    "## Import delle librerie\n"
   ]
  },
  {
   "cell_type": "code",
   "execution_count": 1,
   "metadata": {},
   "outputs": [],
   "source": [
    "import requests\n",
    "import bs4\n",
    "import csv\n",
    "from tqdm import tqdm_notebook as tqdm\n",
    "import json\n",
    "import pprint\n",
    "import re"
   ]
  },
  {
   "cell_type": "markdown",
   "metadata": {},
   "source": [
    "## Definizione url di riferimento\n",
    "\n",
    "Per semplificare il progetto la ricerca riguarderà tutti gli annunci trovati filtrando per regione Lombardia e prodotto iPhone.\n"
   ]
  },
  {
   "cell_type": "code",
   "execution_count": 2,
   "metadata": {},
   "outputs": [],
   "source": [
    "webpage = f\"https://www.kijiji.it/annunci-lombardia/iphone/?p=1\""
   ]
  },
  {
   "cell_type": "markdown",
   "metadata": {},
   "source": [
    "Cerco tutti gli annunci nella pagina:"
   ]
  },
  {
   "cell_type": "code",
   "execution_count": 3,
   "metadata": {},
   "outputs": [
    {
     "name": "stderr",
     "output_type": "stream",
     "text": [
      "C:\\Users\\carla.molteni\\AppData\\Local\\Continuum\\anaconda3\\lib\\site-packages\\bs4\\__init__.py:181: UserWarning: No parser was explicitly specified, so I'm using the best available HTML parser for this system (\"lxml\"). This usually isn't a problem, but if you run this code on another system, or in a different virtual environment, it may use a different parser and behave differently.\n",
      "\n",
      "The code that caused this warning is on line 193 of the file C:\\Users\\carla.molteni\\AppData\\Local\\Continuum\\anaconda3\\lib\\runpy.py. To get rid of this warning, change code that looks like this:\n",
      "\n",
      " BeautifulSoup(YOUR_MARKUP})\n",
      "\n",
      "to this:\n",
      "\n",
      " BeautifulSoup(YOUR_MARKUP, \"lxml\")\n",
      "\n",
      "  markup_type=markup_type))\n"
     ]
    }
   ],
   "source": [
    "response = requests.get(webpage)\n",
    "doc = bs4.BeautifulSoup(response.text)\n",
    "annunci = doc.find_all('li', class_=\"result\")"
   ]
  },
  {
   "cell_type": "code",
   "execution_count": 4,
   "metadata": {},
   "outputs": [
    {
     "data": {
      "text/plain": [
       "26"
      ]
     },
     "execution_count": 4,
     "metadata": {},
     "output_type": "execute_result"
    }
   ],
   "source": [
    "len(annunci)"
   ]
  },
  {
   "cell_type": "markdown",
   "metadata": {},
   "source": [
    "Ci sono 26 annunci nella pagina!\n",
    "\n",
    "Test del codice per lo scarico delle prime informazioni nella pagina di ricerca degli annunci:"
   ]
  },
  {
   "cell_type": "code",
   "execution_count": 5,
   "metadata": {},
   "outputs": [
    {
     "name": "stdout",
     "output_type": "stream",
     "text": [
      "{'id': '138705039', 'titolo': 'IPhone 8 (2018) Nero - 64GB', 'link': 'https://www.kijiji.it/annunci/cellulari-e-accessori/milano-annunci-maciachini-zara-niguarda/iphone-8-2018-nero-64gb/138705039', 'prezzo': '400', 'data': 'Ieri, 11:43', 'paese': 'Maciachini / Zara / Niguarda'}\n"
     ]
    }
   ],
   "source": [
    "annunci_list = []\n",
    "for annuncio in annunci:\n",
    "    try:\n",
    "        titolo = annuncio.select(\"h3.title > a\")[0].text.replace(\"\\n\", \"\").strip()\n",
    "    except:\n",
    "        continue\n",
    "    url = annuncio[\"data-href\"]\n",
    "    annuncio_id = annuncio[\"data-id\"]\n",
    "    try:\n",
    "        prezzo = annuncio.select(\"div.item-content > h4.price\")[0].text.replace(\"\\n\", \"\").replace(\"€\",\"\").strip()\n",
    "    except:\n",
    "        prezzo = \"N/A\"\n",
    "    try:\n",
    "        data = annuncio.select(\"div.item-content > p.timestamp\")[0].text\n",
    "    except:\n",
    "        data = \"N/A\"\n",
    "    try:\n",
    "        paese = annuncio.select(\"div.item-content > p.locale\")[0].text\n",
    "    except:\n",
    "        paese = \"N/A\"\n",
    "    annunci_list.append({'id': annuncio_id, 'titolo': titolo, 'link': url, \n",
    "                         'prezzo': prezzo, 'data': data, 'paese' :paese})\n",
    "    \n",
    "print(annunci_list[0])"
   ]
  },
  {
   "cell_type": "markdown",
   "metadata": {},
   "source": [
    "Ok, ora posso definire la funzione per il parsing generico degli annunci:"
   ]
  },
  {
   "cell_type": "code",
   "execution_count": 6,
   "metadata": {},
   "outputs": [],
   "source": [
    "\n",
    "def parse_annuncio(annuncio):\n",
    "    try:\n",
    "        titolo = annuncio.select(\"h3.title > a\")[0].text.replace(\"\\n\", \"\").strip()\n",
    "    except:\n",
    "        return None\n",
    "    url = annuncio[\"data-href\"]\n",
    "    annuncio_id = annuncio[\"data-id\"]\n",
    "    try:\n",
    "        prezzo = annuncio.select(\"div.item-content > h4.price\")[0].text.replace(\"\\n\", \"\").replace(\"€\",\"\").strip()\n",
    "    except:\n",
    "        prezzo = \"N/A\"\n",
    "    try:\n",
    "        data = annuncio.select(\"div.item-content > p.timestamp\")[0].text\n",
    "    except:\n",
    "        data = \"N/A\"\n",
    "    try:\n",
    "        paese = annuncio.select(\"div.item-content > p.locale\")[0].text\n",
    "    except:\n",
    "        paese = \"N/A\"\n",
    "    return {'id': annuncio_id, 'titolo': titolo, 'link': url, \n",
    "                         'prezzo': prezzo, 'data': data, 'paese' :paese}\n"
   ]
  },
  {
   "cell_type": "markdown",
   "metadata": {},
   "source": [
    "In un ciclo for gestisco il download degli annunci per ogni pagina:"
   ]
  },
  {
   "cell_type": "code",
   "execution_count": 7,
   "metadata": {},
   "outputs": [
    {
     "data": {
      "application/vnd.jupyter.widget-view+json": {
       "model_id": "eb71a10062414f8c803a22bc68b0b6a0",
       "version_major": 2,
       "version_minor": 0
      },
      "text/plain": [
       "A Jupyter Widget"
      ]
     },
     "metadata": {},
     "output_type": "display_data"
    },
    {
     "name": "stderr",
     "output_type": "stream",
     "text": [
      "C:\\Users\\carla.molteni\\AppData\\Local\\Continuum\\anaconda3\\lib\\site-packages\\bs4\\__init__.py:181: UserWarning: No parser was explicitly specified, so I'm using the best available HTML parser for this system (\"lxml\"). This usually isn't a problem, but if you run this code on another system, or in a different virtual environment, it may use a different parser and behave differently.\n",
      "\n",
      "The code that caused this warning is on line 193 of the file C:\\Users\\carla.molteni\\AppData\\Local\\Continuum\\anaconda3\\lib\\runpy.py. To get rid of this warning, change code that looks like this:\n",
      "\n",
      " BeautifulSoup(YOUR_MARKUP})\n",
      "\n",
      "to this:\n",
      "\n",
      " BeautifulSoup(YOUR_MARKUP, \"lxml\")\n",
      "\n",
      "  markup_type=markup_type))\n"
     ]
    },
    {
     "name": "stdout",
     "output_type": "stream",
     "text": [
      "\n",
      "260\n"
     ]
    }
   ],
   "source": [
    "annunci_list = []\n",
    "for num in tqdm(range(1,11)):\n",
    "    webpage = f\"https://www.kijiji.it/annunci-lombardia/iphone/?p={num}\"\n",
    "    response = requests.get(webpage)\n",
    "    doc = bs4.BeautifulSoup(response.text)\n",
    "    annunci = doc.find_all('li', class_=\"result\")\n",
    "    for annuncio in annunci:\n",
    "        annunci_list.append(parse_annuncio(annuncio))\n",
    "\n",
    "print(len(annunci_list))\n",
    "        "
   ]
  },
  {
   "cell_type": "markdown",
   "metadata": {},
   "source": [
    "## Come terminare lo scraping?\n",
    "\n",
    "Problema: *quando mi fermo?*\n",
    "- cerco all'interno della pagina il numero totale di pagine\n"
   ]
  },
  {
   "cell_type": "code",
   "execution_count": 9,
   "metadata": {},
   "outputs": [
    {
     "name": "stderr",
     "output_type": "stream",
     "text": [
      "C:\\Users\\carla.molteni\\AppData\\Local\\Continuum\\anaconda3\\lib\\site-packages\\bs4\\__init__.py:181: UserWarning: No parser was explicitly specified, so I'm using the best available HTML parser for this system (\"lxml\"). This usually isn't a problem, but if you run this code on another system, or in a different virtual environment, it may use a different parser and behave differently.\n",
      "\n",
      "The code that caused this warning is on line 193 of the file C:\\Users\\carla.molteni\\AppData\\Local\\Continuum\\anaconda3\\lib\\runpy.py. To get rid of this warning, change code that looks like this:\n",
      "\n",
      " BeautifulSoup(YOUR_MARKUP})\n",
      "\n",
      "to this:\n",
      "\n",
      " BeautifulSoup(YOUR_MARKUP, \"lxml\")\n",
      "\n",
      "  markup_type=markup_type))\n"
     ]
    },
    {
     "name": "stdout",
     "output_type": "stream",
     "text": [
      "47\n"
     ]
    }
   ],
   "source": [
    "firstpage = f\"https://www.kijiji.it/annunci-lombardia/iphone/?p=1\"\n",
    "firstresponse = requests.get(firstpage)\n",
    "firstdoc = bs4.BeautifulSoup(firstresponse.text)\n",
    "pagecount = int(firstdoc.select(\"#pagination > div > a.last-page\")[0].text)\n",
    "print(pagecount)"
   ]
  },
  {
   "cell_type": "code",
   "execution_count": 10,
   "metadata": {},
   "outputs": [
    {
     "data": {
      "application/vnd.jupyter.widget-view+json": {
       "model_id": "c090dd0764254839affaa4f160c13216",
       "version_major": 2,
       "version_minor": 0
      },
      "text/plain": [
       "A Jupyter Widget"
      ]
     },
     "metadata": {},
     "output_type": "display_data"
    },
    {
     "name": "stderr",
     "output_type": "stream",
     "text": [
      "C:\\Users\\carla.molteni\\AppData\\Local\\Continuum\\anaconda3\\lib\\site-packages\\bs4\\__init__.py:181: UserWarning: No parser was explicitly specified, so I'm using the best available HTML parser for this system (\"lxml\"). This usually isn't a problem, but if you run this code on another system, or in a different virtual environment, it may use a different parser and behave differently.\n",
      "\n",
      "The code that caused this warning is on line 193 of the file C:\\Users\\carla.molteni\\AppData\\Local\\Continuum\\anaconda3\\lib\\runpy.py. To get rid of this warning, change code that looks like this:\n",
      "\n",
      " BeautifulSoup(YOUR_MARKUP})\n",
      "\n",
      "to this:\n",
      "\n",
      " BeautifulSoup(YOUR_MARKUP, \"lxml\")\n",
      "\n",
      "  markup_type=markup_type))\n"
     ]
    },
    {
     "name": "stdout",
     "output_type": "stream",
     "text": [
      "\n"
     ]
    }
   ],
   "source": [
    "annunci_list = []\n",
    "annunci_letti = 0\n",
    "num = 0\n",
    "for num in tqdm(range(1,pagecount)):\n",
    "    num = num + 1\n",
    "    webpage = f\"https://www.kijiji.it/annunci-lombardia/iphone/?p={num}\"\n",
    "    response = requests.get(webpage)\n",
    "    doc = bs4.BeautifulSoup(response.text)\n",
    "    annunci = doc.find_all('li', class_=\"result\")\n",
    "    for annuncio in annunci:\n",
    "        try:\n",
    "            annuncio_parsed = parse_annuncio(annuncio)\n",
    "            if annuncio_parsed is not None:\n",
    "                annunci_list.append(annuncio_parsed)\n",
    "        except:\n",
    "            pass\n",
    "    annunci_letti = len(annunci_list)"
   ]
  },
  {
   "cell_type": "markdown",
   "metadata": {},
   "source": [
    "## Pandas\n",
    "Utilizzo la libreria Pandas per salvare i risultati in un file csv:"
   ]
  },
  {
   "cell_type": "code",
   "execution_count": 11,
   "metadata": {},
   "outputs": [
    {
     "data": {
      "text/html": [
       "<div>\n",
       "<style>\n",
       "    .dataframe thead tr:only-child th {\n",
       "        text-align: right;\n",
       "    }\n",
       "\n",
       "    .dataframe thead th {\n",
       "        text-align: left;\n",
       "    }\n",
       "\n",
       "    .dataframe tbody tr th {\n",
       "        vertical-align: top;\n",
       "    }\n",
       "</style>\n",
       "<table border=\"1\" class=\"dataframe\">\n",
       "  <thead>\n",
       "    <tr style=\"text-align: right;\">\n",
       "      <th></th>\n",
       "      <th>data</th>\n",
       "      <th>id</th>\n",
       "      <th>link</th>\n",
       "      <th>paese</th>\n",
       "      <th>prezzo</th>\n",
       "      <th>titolo</th>\n",
       "    </tr>\n",
       "  </thead>\n",
       "  <tbody>\n",
       "    <tr>\n",
       "      <th>0</th>\n",
       "      <td>Ieri, 11:43</td>\n",
       "      <td>138705039</td>\n",
       "      <td>https://www.kijiji.it/annunci/cellulari-e-acce...</td>\n",
       "      <td>Maciachini / Zara / Niguarda</td>\n",
       "      <td>400</td>\n",
       "      <td>IPhone 8 (2018) Nero - 64GB</td>\n",
       "    </tr>\n",
       "    <tr>\n",
       "      <th>1</th>\n",
       "      <td>Ieri, 09:04</td>\n",
       "      <td>138808297</td>\n",
       "      <td>https://www.kijiji.it/annunci/cellulari-e-acce...</td>\n",
       "      <td>Como</td>\n",
       "      <td>890</td>\n",
       "      <td>Iphone xs max 512GB</td>\n",
       "    </tr>\n",
       "    <tr>\n",
       "      <th>2</th>\n",
       "      <td>Ieri, 11:43</td>\n",
       "      <td>138705039</td>\n",
       "      <td>https://www.kijiji.it/annunci/cellulari-e-acce...</td>\n",
       "      <td>Maciachini / Zara / Niguarda</td>\n",
       "      <td>400</td>\n",
       "      <td>IPhone 8 (2018) Nero - 64GB</td>\n",
       "    </tr>\n",
       "    <tr>\n",
       "      <th>3</th>\n",
       "      <td>Ieri, 10:40</td>\n",
       "      <td>139317911</td>\n",
       "      <td>https://www.kijiji.it/annunci/cellulari-e-acce...</td>\n",
       "      <td>Cunardo</td>\n",
       "      <td>40</td>\n",
       "      <td>Stampa foto Iphone e Android</td>\n",
       "    </tr>\n",
       "    <tr>\n",
       "      <th>4</th>\n",
       "      <td>Ieri, 10:40</td>\n",
       "      <td>137693462</td>\n",
       "      <td>https://www.kijiji.it/annunci/cerco-lavoro-ser...</td>\n",
       "      <td>Mantova</td>\n",
       "      <td>Contatta l'utente</td>\n",
       "      <td>Riparatore telefono iPhone samsug Huwei originale</td>\n",
       "    </tr>\n",
       "  </tbody>\n",
       "</table>\n",
       "</div>"
      ],
      "text/plain": [
       "          data         id                                               link  \\\n",
       "0  Ieri, 11:43  138705039  https://www.kijiji.it/annunci/cellulari-e-acce...   \n",
       "1  Ieri, 09:04  138808297  https://www.kijiji.it/annunci/cellulari-e-acce...   \n",
       "2  Ieri, 11:43  138705039  https://www.kijiji.it/annunci/cellulari-e-acce...   \n",
       "3  Ieri, 10:40  139317911  https://www.kijiji.it/annunci/cellulari-e-acce...   \n",
       "4  Ieri, 10:40  137693462  https://www.kijiji.it/annunci/cerco-lavoro-ser...   \n",
       "\n",
       "                          paese             prezzo  \\\n",
       "0  Maciachini / Zara / Niguarda                400   \n",
       "1                          Como                890   \n",
       "2  Maciachini / Zara / Niguarda                400   \n",
       "3                       Cunardo                 40   \n",
       "4                       Mantova  Contatta l'utente   \n",
       "\n",
       "                                              titolo  \n",
       "0                        IPhone 8 (2018) Nero - 64GB  \n",
       "1                                Iphone xs max 512GB  \n",
       "2                        IPhone 8 (2018) Nero - 64GB  \n",
       "3                       Stampa foto Iphone e Android  \n",
       "4  Riparatore telefono iPhone samsug Huwei originale  "
      ]
     },
     "execution_count": 11,
     "metadata": {},
     "output_type": "execute_result"
    }
   ],
   "source": [
    "import pandas as pd\n",
    "ds_annunci = pd.DataFrame(annunci_list)\n",
    "ds_annunci.set_index(\"id\")\n",
    "ds_annunci.head()"
   ]
  },
  {
   "cell_type": "code",
   "execution_count": 12,
   "metadata": {},
   "outputs": [],
   "source": [
    "ds_annunci.to_csv(\"./kijiji_annunci.csv\")"
   ]
  },
  {
   "cell_type": "markdown",
   "metadata": {},
   "source": [
    "## Le pagine degli annunci ###\n",
    "Ora l'obiettivo è scaricare i dettagli dei singoli annunci e le foto.\n",
    "# Geocoding\n",
    "Per avere una maggiore precisione riguardo all'informazione geografica degli annunci, richiamo il servizio di geocoding in modo da ottenere una geolocalizzazione più strutturata.\n"
   ]
  },
  {
   "cell_type": "code",
   "execution_count": 14,
   "metadata": {},
   "outputs": [
    {
     "data": {
      "text/html": [
       "<div>\n",
       "<style>\n",
       "    .dataframe thead tr:only-child th {\n",
       "        text-align: right;\n",
       "    }\n",
       "\n",
       "    .dataframe thead th {\n",
       "        text-align: left;\n",
       "    }\n",
       "\n",
       "    .dataframe tbody tr th {\n",
       "        vertical-align: top;\n",
       "    }\n",
       "</style>\n",
       "<table border=\"1\" class=\"dataframe\">\n",
       "  <thead>\n",
       "    <tr style=\"text-align: right;\">\n",
       "      <th></th>\n",
       "      <th>Unnamed: 0</th>\n",
       "      <th>data</th>\n",
       "      <th>link</th>\n",
       "      <th>paese</th>\n",
       "      <th>prezzo</th>\n",
       "      <th>titolo</th>\n",
       "    </tr>\n",
       "    <tr>\n",
       "      <th>id</th>\n",
       "      <th></th>\n",
       "      <th></th>\n",
       "      <th></th>\n",
       "      <th></th>\n",
       "      <th></th>\n",
       "      <th></th>\n",
       "    </tr>\n",
       "  </thead>\n",
       "  <tbody>\n",
       "    <tr>\n",
       "      <th>138705039</th>\n",
       "      <td>0</td>\n",
       "      <td>Ieri, 11:43</td>\n",
       "      <td>https://www.kijiji.it/annunci/cellulari-e-acce...</td>\n",
       "      <td>Maciachini / Zara / Niguarda</td>\n",
       "      <td>400</td>\n",
       "      <td>IPhone 8 (2018) Nero - 64GB</td>\n",
       "    </tr>\n",
       "    <tr>\n",
       "      <th>138808297</th>\n",
       "      <td>1</td>\n",
       "      <td>Ieri, 09:04</td>\n",
       "      <td>https://www.kijiji.it/annunci/cellulari-e-acce...</td>\n",
       "      <td>Como</td>\n",
       "      <td>890</td>\n",
       "      <td>Iphone xs max 512GB</td>\n",
       "    </tr>\n",
       "    <tr>\n",
       "      <th>138705039</th>\n",
       "      <td>2</td>\n",
       "      <td>Ieri, 11:43</td>\n",
       "      <td>https://www.kijiji.it/annunci/cellulari-e-acce...</td>\n",
       "      <td>Maciachini / Zara / Niguarda</td>\n",
       "      <td>400</td>\n",
       "      <td>IPhone 8 (2018) Nero - 64GB</td>\n",
       "    </tr>\n",
       "    <tr>\n",
       "      <th>139317911</th>\n",
       "      <td>3</td>\n",
       "      <td>Ieri, 10:40</td>\n",
       "      <td>https://www.kijiji.it/annunci/cellulari-e-acce...</td>\n",
       "      <td>Cunardo</td>\n",
       "      <td>40</td>\n",
       "      <td>Stampa foto Iphone e Android</td>\n",
       "    </tr>\n",
       "    <tr>\n",
       "      <th>137693462</th>\n",
       "      <td>4</td>\n",
       "      <td>Ieri, 10:40</td>\n",
       "      <td>https://www.kijiji.it/annunci/cerco-lavoro-ser...</td>\n",
       "      <td>Mantova</td>\n",
       "      <td>Contatta l'utente</td>\n",
       "      <td>Riparatore telefono iPhone samsug Huwei originale</td>\n",
       "    </tr>\n",
       "  </tbody>\n",
       "</table>\n",
       "</div>"
      ],
      "text/plain": [
       "           Unnamed: 0         data  \\\n",
       "id                                   \n",
       "138705039           0  Ieri, 11:43   \n",
       "138808297           1  Ieri, 09:04   \n",
       "138705039           2  Ieri, 11:43   \n",
       "139317911           3  Ieri, 10:40   \n",
       "137693462           4  Ieri, 10:40   \n",
       "\n",
       "                                                        link  \\\n",
       "id                                                             \n",
       "138705039  https://www.kijiji.it/annunci/cellulari-e-acce...   \n",
       "138808297  https://www.kijiji.it/annunci/cellulari-e-acce...   \n",
       "138705039  https://www.kijiji.it/annunci/cellulari-e-acce...   \n",
       "139317911  https://www.kijiji.it/annunci/cellulari-e-acce...   \n",
       "137693462  https://www.kijiji.it/annunci/cerco-lavoro-ser...   \n",
       "\n",
       "                                  paese             prezzo  \\\n",
       "id                                                           \n",
       "138705039  Maciachini / Zara / Niguarda                400   \n",
       "138808297                          Como                890   \n",
       "138705039  Maciachini / Zara / Niguarda                400   \n",
       "139317911                       Cunardo                 40   \n",
       "137693462                       Mantova  Contatta l'utente   \n",
       "\n",
       "                                                      titolo  \n",
       "id                                                            \n",
       "138705039                        IPhone 8 (2018) Nero - 64GB  \n",
       "138808297                                Iphone xs max 512GB  \n",
       "138705039                        IPhone 8 (2018) Nero - 64GB  \n",
       "139317911                       Stampa foto Iphone e Android  \n",
       "137693462  Riparatore telefono iPhone samsug Huwei originale  "
      ]
     },
     "execution_count": 14,
     "metadata": {},
     "output_type": "execute_result"
    }
   ],
   "source": [
    "import json\n",
    "# apro il file csv\n",
    "import pandas as pd\n",
    "ds_annunci = pd.read_csv(\"./kijiji_annunci.csv\",encoding = \"ISO-8859-1\", index_col=\"id\")\n",
    "ds_annunci.head()"
   ]
  },
  {
   "cell_type": "markdown",
   "metadata": {},
   "source": [
    "Per ogni annuncio vado a richiamare il link e a procedere con lo scarico dalla pagina di dettaglio:"
   ]
  },
  {
   "cell_type": "code",
   "execution_count": 96,
   "metadata": {},
   "outputs": [
    {
     "data": {
      "application/vnd.jupyter.widget-view+json": {
       "model_id": "d9f75b92b8bb48ea8b597d7e1b7bfaf3",
       "version_major": 2,
       "version_minor": 0
      },
      "text/plain": [
       "A Jupyter Widget"
      ]
     },
     "metadata": {},
     "output_type": "display_data"
    },
    {
     "name": "stdout",
     "output_type": "stream",
     "text": [
      "https://www.kijiji.it/annunci/cellulari-e-accessori/milano-annunci-maciachini-zara-niguarda/iphone-8-2018-nero-64gb/138705039\n"
     ]
    },
    {
     "name": "stderr",
     "output_type": "stream",
     "text": [
      "C:\\Users\\carla.molteni\\AppData\\Local\\Continuum\\anaconda3\\lib\\site-packages\\bs4\\__init__.py:181: UserWarning: No parser was explicitly specified, so I'm using the best available HTML parser for this system (\"lxml\"). This usually isn't a problem, but if you run this code on another system, or in a different virtual environment, it may use a different parser and behave differently.\n",
      "\n",
      "The code that caused this warning is on line 193 of the file C:\\Users\\carla.molteni\\AppData\\Local\\Continuum\\anaconda3\\lib\\runpy.py. To get rid of this warning, change code that looks like this:\n",
      "\n",
      " BeautifulSoup(YOUR_MARKUP})\n",
      "\n",
      "to this:\n",
      "\n",
      " BeautifulSoup(YOUR_MARKUP, \"lxml\")\n",
      "\n",
      "  markup_type=markup_type))\n"
     ]
    },
    {
     "name": "stdout",
     "output_type": "stream",
     "text": [
      "Milano (Milano)\n",
      "https://i.ebayimg.com/00/z/vn0AAOSwwkFc6Vfq/$_59.JPG\n",
      "\n"
     ]
    },
    {
     "ename": "FileNotFoundError",
     "evalue": "[Errno 2] No such file or directory: './img/img_138705039_0.jpg'",
     "output_type": "error",
     "traceback": [
      "\u001b[1;31m---------------------------------------------------------------------------\u001b[0m",
      "\u001b[1;31mFileNotFoundError\u001b[0m                         Traceback (most recent call last)",
      "\u001b[1;32m<ipython-input-96-ecf97547b351>\u001b[0m in \u001b[0;36m<module>\u001b[1;34m()\u001b[0m\n\u001b[0;32m     60\u001b[0m         \u001b[0mimg_file\u001b[0m \u001b[1;33m=\u001b[0m \u001b[0mrequests\u001b[0m\u001b[1;33m.\u001b[0m\u001b[0mget\u001b[0m\u001b[1;33m(\u001b[0m\u001b[0msrc\u001b[0m\u001b[1;33m,\u001b[0m \u001b[0mstream\u001b[0m\u001b[1;33m=\u001b[0m\u001b[1;32mTrue\u001b[0m\u001b[1;33m)\u001b[0m\u001b[1;33m\u001b[0m\u001b[0m\n\u001b[0;32m     61\u001b[0m         \u001b[1;32mif\u001b[0m \u001b[0mimg_file\u001b[0m\u001b[1;33m.\u001b[0m\u001b[0mstatus_code\u001b[0m \u001b[1;33m==\u001b[0m \u001b[1;36m200\u001b[0m\u001b[1;33m:\u001b[0m\u001b[1;33m\u001b[0m\u001b[0m\n\u001b[1;32m---> 62\u001b[1;33m             \u001b[1;32mwith\u001b[0m \u001b[0mopen\u001b[0m\u001b[1;33m(\u001b[0m\u001b[1;34m\"./img/img_\"\u001b[0m \u001b[1;33m+\u001b[0m \u001b[0mstr\u001b[0m\u001b[1;33m(\u001b[0m\u001b[0mid_ad\u001b[0m\u001b[1;33m)\u001b[0m \u001b[1;33m+\u001b[0m \u001b[1;34m\"_\"\u001b[0m \u001b[1;33m+\u001b[0m \u001b[0mstr\u001b[0m\u001b[1;33m(\u001b[0m\u001b[0mi\u001b[0m\u001b[1;33m)\u001b[0m \u001b[1;33m+\u001b[0m \u001b[1;34m\".jpg\"\u001b[0m\u001b[1;33m,\u001b[0m \u001b[1;34m'wb'\u001b[0m\u001b[1;33m)\u001b[0m \u001b[1;32mas\u001b[0m \u001b[0mf\u001b[0m\u001b[1;33m:\u001b[0m\u001b[1;33m\u001b[0m\u001b[0m\n\u001b[0m\u001b[0;32m     63\u001b[0m                 \u001b[0mf\u001b[0m\u001b[1;33m.\u001b[0m\u001b[0mwrite\u001b[0m\u001b[1;33m(\u001b[0m\u001b[0mimg_file\u001b[0m\u001b[1;33m.\u001b[0m\u001b[0mcontent\u001b[0m\u001b[1;33m)\u001b[0m\u001b[1;33m\u001b[0m\u001b[0m\n\u001b[0;32m     64\u001b[0m             \u001b[0mi\u001b[0m \u001b[1;33m=\u001b[0m \u001b[0mi\u001b[0m\u001b[1;33m+\u001b[0m\u001b[1;36m1\u001b[0m\u001b[1;33m\u001b[0m\u001b[0m\n",
      "\u001b[1;31mFileNotFoundError\u001b[0m: [Errno 2] No such file or directory: './img/img_138705039_0.jpg'"
     ]
    }
   ],
   "source": [
    "dettagli = []\n",
    "for annuncio_id, annuncio in tqdm(ds_annunci.head().iterrows(), total=ds_annunci.head().shape[0]):\n",
    "    dettagli_row = {}\n",
    "    link = annuncio[\"link\"]\n",
    "    print(link)\n",
    "    response = requests.get(link)\n",
    "    doc = bs4.BeautifulSoup(response.text)\n",
    "    try:\n",
    "        descrizione = doc.select(\"article.vip__carousel > div.box__content > div > p.vip__text-description\")[0].text.replace('\\n', ' ').strip()\n",
    "    except:\n",
    "        continue\n",
    "    try:\n",
    "        nome_venditore = doc.select(\"article.user > div.media__body > div.title\")[0].text.replace('\\n', ' ').strip()\n",
    "    except:\n",
    "        nome_venditore = \"N/A\"\n",
    "    try: \n",
    "        phone = doc.select(\"h3.modal-phone__text\")[0].text.replace('\\n', ' ').strip().replace(\"+\", \"00\")\n",
    "    except:\n",
    "        phone = 'N/A'\n",
    "    try: \n",
    "        userId = doc.select(\"div.user__bottom > a\")[0][\"href\"].split(\"/\")[-1]\n",
    "    except:\n",
    "        userId = 'N/A'\n",
    "    id_ad = doc.select(\"li.breadcrumbs__leaf > strong\")[0].text.replace('\\n', ' ').strip()\n",
    "    try:\n",
    "        location = doc.select(\"div.vip__location > div > div > span\")[0].text.replace('\\n', ' ').strip()\n",
    "    except: \n",
    "        location1 = doc.select(\"div.vip__location\")[0]\n",
    "        location =location1.select(\"div > span\")[0].text\n",
    "    print(location)\n",
    "    dettagli_row.update({'descrizione': descrizione,  'nome_venditore': nome_venditore,\n",
    "                        'phone': phone, 'userId':userId, 'id_ad':id_ad, 'location': location})\n",
    "    details = doc.select(\"section.vip__details > dl\")\n",
    "    new_table = pd.DataFrame(columns=range(0,2), index = [0]) # I know the size \n",
    "    row_marker = 0\n",
    "    for row in details:\n",
    "        #column_marker = 0\n",
    "        label = row.find_all('dt')[0].text.replace('\\n', ' ').strip()\n",
    "        value = row.find_all('dd')[0].text.replace('\\n', ' ').strip()\n",
    "        dettagli_row.update({label:value})\n",
    "    ## geocoding\n",
    "    lat = \"\"\n",
    "    lon = \"\"\n",
    "    try:\n",
    "        key = \"T4eqDjtnpzWsfeMBZgKAqKobvcICurpU\"\n",
    "        geocode_url = f\"http://www.mapquestapi.com/geocoding/v1/address?key={key}&location={dettagli_row.get('location')}\"\n",
    "        response = requests.get(geocode_url)\n",
    "        geo = json.loads(response.text)\n",
    "        lat = geo['results'][0]['locations'][0]['latLng']['lat']\n",
    "        lon = geo['results'][0]['locations'][0]['latLng']['lng']\n",
    "    except:\n",
    "        pass\n",
    "    #scarico le immagini\n",
    "    docImg = doc.select(\"section.vip__body > article.vip__carousel > div.carousel-slide \")[0]\n",
    "    imgs = docImg.find_all(\"img\")\n",
    "    i = 0\n",
    "    for img in imgs:\n",
    "        src = img['src']\n",
    "        print(src)\n",
    "        img_file = requests.get(src, stream=True)\n",
    "        if img_file.status_code == 200:\n",
    "            with open(\"./img_kijiji/img_\" + str(id_ad) + \"_\" + str(i) + \".jpg\", 'wb') as f:\n",
    "                f.write(img_file.content)\n",
    "            i = i+1\n",
    "    dettagli_row.update({\"lat\": lat, \"lon\": lon})\n",
    "    dettagli.append(dettagli_row)"
   ]
  },
  {
   "cell_type": "code",
   "execution_count": 80,
   "metadata": {},
   "outputs": [
    {
     "data": {
      "text/html": [
       "<div>\n",
       "<style>\n",
       "    .dataframe thead tr:only-child th {\n",
       "        text-align: right;\n",
       "    }\n",
       "\n",
       "    .dataframe thead th {\n",
       "        text-align: left;\n",
       "    }\n",
       "\n",
       "    .dataframe tbody tr th {\n",
       "        vertical-align: top;\n",
       "    }\n",
       "</style>\n",
       "<table border=\"1\" class=\"dataframe\">\n",
       "  <thead>\n",
       "    <tr style=\"text-align: right;\">\n",
       "      <th></th>\n",
       "      <th>Marca</th>\n",
       "      <th>Sito Web</th>\n",
       "      <th>Tipologia</th>\n",
       "      <th>descrizione</th>\n",
       "      <th>id_ad</th>\n",
       "      <th>lat</th>\n",
       "      <th>location</th>\n",
       "      <th>lon</th>\n",
       "      <th>nome_venditore</th>\n",
       "      <th>phone</th>\n",
       "      <th>userId</th>\n",
       "    </tr>\n",
       "  </thead>\n",
       "  <tbody>\n",
       "    <tr>\n",
       "      <th>0</th>\n",
       "      <td>Apple</td>\n",
       "      <td>NaN</td>\n",
       "      <td>Cellulari</td>\n",
       "      <td>Vendo iPhone 8 regalato a gennaio 2018, tenuto...</td>\n",
       "      <td>138705039</td>\n",
       "      <td>45.466797</td>\n",
       "      <td>Milano (Milano)</td>\n",
       "      <td>9.190498</td>\n",
       "      <td>Filippo</td>\n",
       "      <td>00393408674227</td>\n",
       "      <td>26431725</td>\n",
       "    </tr>\n",
       "    <tr>\n",
       "      <th>1</th>\n",
       "      <td>Apple</td>\n",
       "      <td>NaN</td>\n",
       "      <td>Cellulari</td>\n",
       "      <td>Iphone xs max da 512 gb , acquistato alla medi...</td>\n",
       "      <td>138808297</td>\n",
       "      <td>45.810681</td>\n",
       "      <td>Como (Como)</td>\n",
       "      <td>9.086303</td>\n",
       "      <td>Getuar</td>\n",
       "      <td>00393347324251</td>\n",
       "      <td>26440510</td>\n",
       "    </tr>\n",
       "    <tr>\n",
       "      <th>2</th>\n",
       "      <td>Apple</td>\n",
       "      <td>NaN</td>\n",
       "      <td>Cellulari</td>\n",
       "      <td>Vendo iPhone 8 regalato a gennaio 2018, tenuto...</td>\n",
       "      <td>138705039</td>\n",
       "      <td>45.466797</td>\n",
       "      <td>Milano (Milano)</td>\n",
       "      <td>9.190498</td>\n",
       "      <td>Filippo</td>\n",
       "      <td>00393408674227</td>\n",
       "      <td>26431725</td>\n",
       "    </tr>\n",
       "    <tr>\n",
       "      <th>3</th>\n",
       "      <td>~Altro</td>\n",
       "      <td>NaN</td>\n",
       "      <td>Accessori</td>\n",
       "      <td>Vendo Bolle photo in buonissime condizioni e f...</td>\n",
       "      <td>139317911</td>\n",
       "      <td>45.937476</td>\n",
       "      <td>Cunardo (Varese)</td>\n",
       "      <td>8.801245</td>\n",
       "      <td>Raffaele</td>\n",
       "      <td>N/A</td>\n",
       "      <td>18476833</td>\n",
       "    </tr>\n",
       "    <tr>\n",
       "      <th>4</th>\n",
       "      <td>NaN</td>\n",
       "      <td>http://tecnico telefonia</td>\n",
       "      <td>Informatica/Grafica/Web</td>\n",
       "      <td>Riparatore telefono iPhone samsug iPad tablet ...</td>\n",
       "      <td>137693462</td>\n",
       "      <td>45.156668</td>\n",
       "      <td>Mantova (Mantova)</td>\n",
       "      <td>10.791719</td>\n",
       "      <td>Giuseppe</td>\n",
       "      <td>N/A</td>\n",
       "      <td>7892850</td>\n",
       "    </tr>\n",
       "  </tbody>\n",
       "</table>\n",
       "</div>"
      ],
      "text/plain": [
       "    Marca                  Sito Web                Tipologia  \\\n",
       "0   Apple                       NaN                Cellulari   \n",
       "1   Apple                       NaN                Cellulari   \n",
       "2   Apple                       NaN                Cellulari   \n",
       "3  ~Altro                       NaN                Accessori   \n",
       "4     NaN  http://tecnico telefonia  Informatica/Grafica/Web   \n",
       "\n",
       "                                         descrizione      id_ad        lat  \\\n",
       "0  Vendo iPhone 8 regalato a gennaio 2018, tenuto...  138705039  45.466797   \n",
       "1  Iphone xs max da 512 gb , acquistato alla medi...  138808297  45.810681   \n",
       "2  Vendo iPhone 8 regalato a gennaio 2018, tenuto...  138705039  45.466797   \n",
       "3  Vendo Bolle photo in buonissime condizioni e f...  139317911  45.937476   \n",
       "4  Riparatore telefono iPhone samsug iPad tablet ...  137693462  45.156668   \n",
       "\n",
       "            location        lon nome_venditore           phone    userId  \n",
       "0    Milano (Milano)   9.190498        Filippo  00393408674227  26431725  \n",
       "1        Como (Como)   9.086303         Getuar  00393347324251  26440510  \n",
       "2    Milano (Milano)   9.190498        Filippo  00393408674227  26431725  \n",
       "3   Cunardo (Varese)   8.801245       Raffaele             N/A  18476833  \n",
       "4  Mantova (Mantova)  10.791719       Giuseppe             N/A   7892850  "
      ]
     },
     "execution_count": 80,
     "metadata": {},
     "output_type": "execute_result"
    }
   ],
   "source": [
    "ds_dettagli = pd.DataFrame(dettagli)\n",
    "#ds_dettagli.set_index(\"id\")\n",
    "ds_dettagli.head()"
   ]
  },
  {
   "cell_type": "code",
   "execution_count": 44,
   "metadata": {},
   "outputs": [
    {
     "name": "stdout",
     "output_type": "stream",
     "text": [
      "<class 'pandas.core.frame.DataFrame'>\n",
      "RangeIndex: 5 entries, 0 to 4\n",
      "Data columns (total 9 columns):\n",
      "Comune            5 non-null object\n",
      "Prezzo            4 non-null object\n",
      "Tipologia         5 non-null object\n",
      "date_ad           5 non-null object\n",
      "descrizione       5 non-null object\n",
      "id                5 non-null object\n",
      "nome_venditore    5 non-null object\n",
      "phone             5 non-null object\n",
      "userId            5 non-null object\n",
      "dtypes: object(9)\n",
      "memory usage: 440.0+ bytes\n"
     ]
    }
   ],
   "source": [
    "ds_dettagli.info()"
   ]
  },
  {
   "cell_type": "code",
   "execution_count": 46,
   "metadata": {},
   "outputs": [],
   "source": [
    "ds_dettagli.to_csv(\"./kijiji_dettagli.csv\")"
   ]
  }
 ],
 "metadata": {
  "kernelspec": {
   "display_name": "Python 3",
   "language": "python",
   "name": "python3"
  },
  "language_info": {
   "codemirror_mode": {
    "name": "ipython",
    "version": 3
   },
   "file_extension": ".py",
   "mimetype": "text/x-python",
   "name": "python",
   "nbconvert_exporter": "python",
   "pygments_lexer": "ipython3",
   "version": "3.6.3"
  }
 },
 "nbformat": 4,
 "nbformat_minor": 2
}
