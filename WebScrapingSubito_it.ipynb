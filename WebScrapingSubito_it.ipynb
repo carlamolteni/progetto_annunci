{
 "cells": [
  {
   "cell_type": "markdown",
   "metadata": {},
   "source": [
    "# Web Scraping del sito Subito.it\n",
    "\n",
    "\n",
    "\n",
    "## Import delle librerie\n"
   ]
  },
  {
   "cell_type": "code",
   "execution_count": 1,
   "metadata": {},
   "outputs": [],
   "source": [
    "import requests\n",
    "import bs4\n",
    "import csv\n",
    "from tqdm import tqdm_notebook as tqdm\n",
    "import json\n",
    "import pprint\n",
    "import re"
   ]
  },
  {
   "cell_type": "markdown",
   "metadata": {},
   "source": [
    "## Definizione url di riferimento\n",
    "\n",
    "Per semplificare il progetto la ricerca riguarderà tutti gli annunci trovati filtrando per regione Lombardia e prodotto iPhone.\n"
   ]
  },
  {
   "cell_type": "code",
   "execution_count": 2,
   "metadata": {},
   "outputs": [],
   "source": [
    "webpage = f\"https://www.subito.it/annunci-lombardia/vendita/usato/?q=iPhone&o=1\""
   ]
  },
  {
   "cell_type": "markdown",
   "metadata": {},
   "source": [
    "Cerco tutti gli annunci nella pagina:"
   ]
  },
  {
   "cell_type": "code",
   "execution_count": 4,
   "metadata": {},
   "outputs": [],
   "source": [
    "response = requests.get(webpage)\n",
    "doc = bs4.BeautifulSoup(response.text, \"lxml\")\n",
    "annunci = doc.find_all('a', class_=\"AdElements__Item--link-L2hvbWUv\")"
   ]
  },
  {
   "cell_type": "code",
   "execution_count": 5,
   "metadata": {},
   "outputs": [
    {
     "data": {
      "text/plain": [
       "33"
      ]
     },
     "execution_count": 5,
     "metadata": {},
     "output_type": "execute_result"
    }
   ],
   "source": [
    "len(annunci)"
   ]
  },
  {
   "cell_type": "markdown",
   "metadata": {},
   "source": [
    "Ci sono 33 annunci nella pagina!\n",
    "\n",
    "Test del codice per lo scarico delle prime informazioni nella pagina di ricerca degli annunci:"
   ]
  },
  {
   "cell_type": "code",
   "execution_count": 6,
   "metadata": {},
   "outputs": [
    {
     "name": "stdout",
     "output_type": "stream",
     "text": [
      "{'id': 'https://www.subito.it/telefonia/iphone-7-brescia-300878677.htm', 'titolo': 'IPhone 7', 'link': 'https://www.subito.it/telefonia/iphone-7-brescia-300878677.htm', 'prezzo': '275', 'datapaese': 'Oggi alle 10:05 - Brescia (BS)'}\n"
     ]
    }
   ],
   "source": [
    "annunci_list = []\n",
    "for annuncio in annunci:\n",
    "    titolo = annuncio.find(\"h2\").text.replace(\"\\n\", \"\").strip()\n",
    "    annuncio_id = annuncio[\"href\"]\n",
    "    url = annuncio[\"href\"]\n",
    "    try:\n",
    "        prezzo = annuncio.find(\"div\",class_ = \"AdElements__ItemPrice--container-L2hvbWUv\").text.replace(\"\\n\", \"\").replace(\"€\",\"\").strip()\n",
    "    except:\n",
    "        prezzo = \"N/A\"\n",
    "    try:\n",
    "        data_paese = annuncio.select(\" div.AdElements__Item--dateLocation-L2hvbWUv > div > span\")[0].text\n",
    "    except:\n",
    "        data_paese = \"N/A\"\n",
    "    annunci_list.append({'id': annuncio_id, 'titolo': titolo, 'link': url, \n",
    "                         'prezzo': prezzo, 'datapaese': data_paese})\n",
    "    \n",
    "print(annunci_list[0])"
   ]
  },
  {
   "cell_type": "markdown",
   "metadata": {},
   "source": [
    "Ok, ora posso definire la funzione per il parsing generico degli annunci:"
   ]
  },
  {
   "cell_type": "code",
   "execution_count": 7,
   "metadata": {},
   "outputs": [],
   "source": [
    "\n",
    "def parse_annuncio(annuncio):\n",
    "    titolo = annuncio.find(\"h2\").text.replace(\"\\n\", \"\").strip()\n",
    "    url = annuncio[\"href\"]\n",
    "    annuncio_id = url.split('-')[-1].split('.')[0]\n",
    "    try:\n",
    "        prezzo = annuncio.find(\"div\",class_ = \"AdElements__ItemPrice--container-L2hvbWUv\").text.replace(\"\\n\", \"\").replace(\"€\",\"\").strip()\n",
    "    except:\n",
    "        prezzo = \"N/A\"\n",
    "    try:\n",
    "        data_paese = annuncio.select(\" div.AdElements__Item--dateLocation-L2hvbWUv > div > span\")[0].text\n",
    "    except:\n",
    "        data_paese = \"N/A\"\n",
    "    \n",
    "    return {'id': annuncio_id, 'titolo': titolo, 'link': url, \n",
    "                         'prezzo': prezzo, 'datapaese': data_paese}\n"
   ]
  },
  {
   "cell_type": "markdown",
   "metadata": {},
   "source": [
    "In un ciclo for gestisco il download degli annunci per ogni pagina:"
   ]
  },
  {
   "cell_type": "code",
   "execution_count": 9,
   "metadata": {},
   "outputs": [
    {
     "data": {
      "application/vnd.jupyter.widget-view+json": {
       "model_id": "d3db6b9b202346c98afce8d02fbc6fc7",
       "version_major": 2,
       "version_minor": 0
      },
      "text/plain": [
       "A Jupyter Widget"
      ]
     },
     "metadata": {},
     "output_type": "display_data"
    },
    {
     "name": "stdout",
     "output_type": "stream",
     "text": [
      "\n",
      "33\n"
     ]
    }
   ],
   "source": [
    "annunci_list = []\n",
    "for num in tqdm(range(1,11)):\n",
    "    webpage = f\"https://www.subito.it/annunci-lombardia/vendita/usato/?q=iPhone&o={num}\"\n",
    "    response = requests.get(webpage)\n",
    "    doc = bs4.BeautifulSoup(response.text, \"lxml\")\n",
    "    annunci = doc.find_all('a', class_=\"AdElements__Item--link-L2hvbWUv\")\n",
    "    for annuncio in annunci:\n",
    "        annunci_list.append(parse_annuncio(annuncio))\n",
    "\n",
    "print(len(annunci_list))\n",
    "        "
   ]
  },
  {
   "cell_type": "markdown",
   "metadata": {},
   "source": [
    "## Come terminare lo scraping?\n",
    "\n",
    "Problema: *quando mi fermo?*\n",
    "- cerco all'interno della pagina il numero di annuncio totali e continuo finco a che il numero degli annunci letti non è uguale al totale\n"
   ]
  },
  {
   "cell_type": "code",
   "execution_count": 11,
   "metadata": {},
   "outputs": [
    {
     "name": "stdout",
     "output_type": "stream",
     "text": [
      "5498\n"
     ]
    }
   ],
   "source": [
    "firstpage = f\"https://www.subito.it/annunci-lombardia/vendita/usato/?q=iPhone&o=1\"\n",
    "firstresponse = requests.get(firstpage)\n",
    "firstdoc = bs4.BeautifulSoup(firstresponse.text, \"lxml\")\n",
    "adscount = int(firstdoc.find_all(\"div\", class_=\"ads-count\")[0].select(\"span\")[0].text.replace('.',''))"
   ]
  },
  {
   "cell_type": "code",
   "execution_count": 13,
   "metadata": {},
   "outputs": [],
   "source": [
    "annunci_list = []\n",
    "annunci_letti = 0\n",
    "num = 0\n",
    "while annunci_letti < adscount:\n",
    "    num = num + 1\n",
    "    webpage = f\"https://www.subito.it/annunci-lombardia/vendita/usato/?q=iPhone&o={num}\"\n",
    "    response = requests.get(webpage)\n",
    "    doc = bs4.BeautifulSoup(response.text, \"lxml\")\n",
    "    annunci = doc.find_all('a', class_=\"AdElements__Item--link-L2hvbWUv\")\n",
    "    for annuncio in annunci:\n",
    "        try:\n",
    "            annunci_list.append(parse_annuncio(annuncio))\n",
    "        except:\n",
    "            pass\n",
    "    annunci_letti = len(annunci_list)"
   ]
  },
  {
   "cell_type": "markdown",
   "metadata": {},
   "source": [
    "## Pandas\n",
    "Utilizzo la libreria Pandas per salvare i risultati in un file csv:"
   ]
  },
  {
   "cell_type": "code",
   "execution_count": 15,
   "metadata": {},
   "outputs": [
    {
     "data": {
      "text/html": [
       "<div>\n",
       "<style>\n",
       "    .dataframe thead tr:only-child th {\n",
       "        text-align: right;\n",
       "    }\n",
       "\n",
       "    .dataframe thead th {\n",
       "        text-align: left;\n",
       "    }\n",
       "\n",
       "    .dataframe tbody tr th {\n",
       "        vertical-align: top;\n",
       "    }\n",
       "</style>\n",
       "<table border=\"1\" class=\"dataframe\">\n",
       "  <thead>\n",
       "    <tr style=\"text-align: right;\">\n",
       "      <th></th>\n",
       "      <th>datapaese</th>\n",
       "      <th>id</th>\n",
       "      <th>link</th>\n",
       "      <th>prezzo</th>\n",
       "      <th>titolo</th>\n",
       "    </tr>\n",
       "  </thead>\n",
       "  <tbody>\n",
       "    <tr>\n",
       "      <th>0</th>\n",
       "      <td>Oggi alle 10:05 - Brescia (BS)</td>\n",
       "      <td>300878677</td>\n",
       "      <td>https://www.subito.it/telefonia/iphone-7-bresc...</td>\n",
       "      <td>275</td>\n",
       "      <td>IPhone 7</td>\n",
       "    </tr>\n",
       "    <tr>\n",
       "      <th>1</th>\n",
       "      <td>Oggi alle 10:00 - Romano di Lombardia (BG)</td>\n",
       "      <td>300877611</td>\n",
       "      <td>https://www.subito.it/telefonia/iphone-8-256-g...</td>\n",
       "      <td>460</td>\n",
       "      <td>IPhone 8, 256 gb</td>\n",
       "    </tr>\n",
       "    <tr>\n",
       "      <th>2</th>\n",
       "      <td>Oggi alle 09:59 - Varese (VA)</td>\n",
       "      <td>300877472</td>\n",
       "      <td>https://www.subito.it/telefonia/iphone-6s-gold...</td>\n",
       "      <td>200</td>\n",
       "      <td>IPhone 6s Gold</td>\n",
       "    </tr>\n",
       "    <tr>\n",
       "      <th>3</th>\n",
       "      <td>Oggi alle 09:58 - Busto Arsizio (VA)</td>\n",
       "      <td>300877282</td>\n",
       "      <td>https://www.subito.it/telefonia/iphone-7-plus-...</td>\n",
       "      <td>350</td>\n",
       "      <td>IPhone 7 Plus 128gb</td>\n",
       "    </tr>\n",
       "    <tr>\n",
       "      <th>4</th>\n",
       "      <td>Oggi alle 09:56 - Legnano (MI)</td>\n",
       "      <td>300876918</td>\n",
       "      <td>https://www.subito.it/telefonia/iphone-6s-32gb...</td>\n",
       "      <td>229</td>\n",
       "      <td>IPhone 6S 32GB di 2 giorni</td>\n",
       "    </tr>\n",
       "  </tbody>\n",
       "</table>\n",
       "</div>"
      ],
      "text/plain": [
       "                                    datapaese         id  \\\n",
       "0              Oggi alle 10:05 - Brescia (BS)  300878677   \n",
       "1  Oggi alle 10:00 - Romano di Lombardia (BG)  300877611   \n",
       "2               Oggi alle 09:59 - Varese (VA)  300877472   \n",
       "3        Oggi alle 09:58 - Busto Arsizio (VA)  300877282   \n",
       "4              Oggi alle 09:56 - Legnano (MI)  300876918   \n",
       "\n",
       "                                                link prezzo  \\\n",
       "0  https://www.subito.it/telefonia/iphone-7-bresc...    275   \n",
       "1  https://www.subito.it/telefonia/iphone-8-256-g...    460   \n",
       "2  https://www.subito.it/telefonia/iphone-6s-gold...    200   \n",
       "3  https://www.subito.it/telefonia/iphone-7-plus-...    350   \n",
       "4  https://www.subito.it/telefonia/iphone-6s-32gb...    229   \n",
       "\n",
       "                       titolo  \n",
       "0                    IPhone 7  \n",
       "1            IPhone 8, 256 gb  \n",
       "2              IPhone 6s Gold  \n",
       "3         IPhone 7 Plus 128gb  \n",
       "4  IPhone 6S 32GB di 2 giorni  "
      ]
     },
     "execution_count": 15,
     "metadata": {},
     "output_type": "execute_result"
    }
   ],
   "source": [
    "import pandas as pd\n",
    "ds_annunci = pd.DataFrame(annunci_list)\n",
    "ds_annunci.set_index(\"id\")\n",
    "ds_annunci.head()"
   ]
  },
  {
   "cell_type": "code",
   "execution_count": 16,
   "metadata": {},
   "outputs": [],
   "source": [
    "ds_annunci.to_csv(\"./subito_it_annunci.csv\")"
   ]
  },
  {
   "cell_type": "markdown",
   "metadata": {},
   "source": [
    "## Le pagine degli annunci ###\n",
    "Ora l'obiettivo è scaricare i dettagli dei singoli annunci e le foto.\n",
    "# Geocoding\n",
    "Per avere una maggiore precisione riguardo all'informazione geografica degli annunci, richiamo il servizio di geocoding in modo da ottenere una geolocalizzazione più strutturata.\n"
   ]
  },
  {
   "cell_type": "code",
   "execution_count": 17,
   "metadata": {},
   "outputs": [
    {
     "data": {
      "text/html": [
       "<div>\n",
       "<style>\n",
       "    .dataframe thead tr:only-child th {\n",
       "        text-align: right;\n",
       "    }\n",
       "\n",
       "    .dataframe thead th {\n",
       "        text-align: left;\n",
       "    }\n",
       "\n",
       "    .dataframe tbody tr th {\n",
       "        vertical-align: top;\n",
       "    }\n",
       "</style>\n",
       "<table border=\"1\" class=\"dataframe\">\n",
       "  <thead>\n",
       "    <tr style=\"text-align: right;\">\n",
       "      <th></th>\n",
       "      <th>Unnamed: 0</th>\n",
       "      <th>datapaese</th>\n",
       "      <th>link</th>\n",
       "      <th>prezzo</th>\n",
       "      <th>titolo</th>\n",
       "    </tr>\n",
       "    <tr>\n",
       "      <th>id</th>\n",
       "      <th></th>\n",
       "      <th></th>\n",
       "      <th></th>\n",
       "      <th></th>\n",
       "      <th></th>\n",
       "    </tr>\n",
       "  </thead>\n",
       "  <tbody>\n",
       "    <tr>\n",
       "      <th>300878677</th>\n",
       "      <td>0</td>\n",
       "      <td>Oggi alle 10:05 - Brescia (BS)</td>\n",
       "      <td>https://www.subito.it/telefonia/iphone-7-bresc...</td>\n",
       "      <td>275.0</td>\n",
       "      <td>IPhone 7</td>\n",
       "    </tr>\n",
       "    <tr>\n",
       "      <th>300877611</th>\n",
       "      <td>1</td>\n",
       "      <td>Oggi alle 10:00 - Romano di Lombardia (BG)</td>\n",
       "      <td>https://www.subito.it/telefonia/iphone-8-256-g...</td>\n",
       "      <td>460.0</td>\n",
       "      <td>IPhone 8, 256 gb</td>\n",
       "    </tr>\n",
       "    <tr>\n",
       "      <th>300877472</th>\n",
       "      <td>2</td>\n",
       "      <td>Oggi alle 09:59 - Varese (VA)</td>\n",
       "      <td>https://www.subito.it/telefonia/iphone-6s-gold...</td>\n",
       "      <td>200.0</td>\n",
       "      <td>IPhone 6s Gold</td>\n",
       "    </tr>\n",
       "    <tr>\n",
       "      <th>300877282</th>\n",
       "      <td>3</td>\n",
       "      <td>Oggi alle 09:58 - Busto Arsizio (VA)</td>\n",
       "      <td>https://www.subito.it/telefonia/iphone-7-plus-...</td>\n",
       "      <td>350.0</td>\n",
       "      <td>IPhone 7 Plus 128gb</td>\n",
       "    </tr>\n",
       "    <tr>\n",
       "      <th>300876918</th>\n",
       "      <td>4</td>\n",
       "      <td>Oggi alle 09:56 - Legnano (MI)</td>\n",
       "      <td>https://www.subito.it/telefonia/iphone-6s-32gb...</td>\n",
       "      <td>229.0</td>\n",
       "      <td>IPhone 6S 32GB di 2 giorni</td>\n",
       "    </tr>\n",
       "  </tbody>\n",
       "</table>\n",
       "</div>"
      ],
      "text/plain": [
       "           Unnamed: 0                                   datapaese  \\\n",
       "id                                                                  \n",
       "300878677           0              Oggi alle 10:05 - Brescia (BS)   \n",
       "300877611           1  Oggi alle 10:00 - Romano di Lombardia (BG)   \n",
       "300877472           2               Oggi alle 09:59 - Varese (VA)   \n",
       "300877282           3        Oggi alle 09:58 - Busto Arsizio (VA)   \n",
       "300876918           4              Oggi alle 09:56 - Legnano (MI)   \n",
       "\n",
       "                                                        link  prezzo  \\\n",
       "id                                                                     \n",
       "300878677  https://www.subito.it/telefonia/iphone-7-bresc...   275.0   \n",
       "300877611  https://www.subito.it/telefonia/iphone-8-256-g...   460.0   \n",
       "300877472  https://www.subito.it/telefonia/iphone-6s-gold...   200.0   \n",
       "300877282  https://www.subito.it/telefonia/iphone-7-plus-...   350.0   \n",
       "300876918  https://www.subito.it/telefonia/iphone-6s-32gb...   229.0   \n",
       "\n",
       "                               titolo  \n",
       "id                                     \n",
       "300878677                    IPhone 7  \n",
       "300877611            IPhone 8, 256 gb  \n",
       "300877472              IPhone 6s Gold  \n",
       "300877282         IPhone 7 Plus 128gb  \n",
       "300876918  IPhone 6S 32GB di 2 giorni  "
      ]
     },
     "execution_count": 17,
     "metadata": {},
     "output_type": "execute_result"
    }
   ],
   "source": [
    "import json\n",
    "# apro il file csv\n",
    "import pandas as pd\n",
    "ds_annunci = pd.read_csv(\"./subito_it_annunci.csv\", index_col=\"id\")\n",
    "ds_annunci.head()"
   ]
  },
  {
   "cell_type": "markdown",
   "metadata": {},
   "source": [
    "Per ogni annuncio vado a richiamare il link e a procedere con lo scarico dalla pagina di dettaglio:"
   ]
  },
  {
   "cell_type": "code",
   "execution_count": 21,
   "metadata": {},
   "outputs": [
    {
     "data": {
      "application/vnd.jupyter.widget-view+json": {
       "model_id": "4bc71c01ee3c4684a50c45e5be5d78a2",
       "version_major": 2,
       "version_minor": 0
      },
      "text/plain": [
       "A Jupyter Widget"
      ]
     },
     "metadata": {},
     "output_type": "display_data"
    }
   ],
   "source": [
    "dettagli = []\n",
    "for annuncio_id, annuncio in tqdm(ds_annunci.iterrows(), total=ds_annunci.shape[0]):\n",
    "    dettagli_row = {}\n",
    "    link = annuncio[\"link\"]\n",
    "    response = requests.get(link)\n",
    "    doc = bs4.BeautifulSoup(response.text, \"lxml\")\n",
    "    try:\n",
    "        descrizione = doc.find(\"div\", class_=\"description\").text.replace('\\n', ' ').strip()\n",
    "        regex = \"([a-zA-Z0-9_.+-]+@[a-zA-Z0-9-]+\\.[a-zA-Z0-9-.]+)\"\n",
    "        p = re.findall(regex, descrizione)\n",
    "        if len(p) > 0:\n",
    "            email = p[0] # prendo la prima per semplicità\n",
    "        else:\n",
    "            email = ''\n",
    "    except:\n",
    "        continue\n",
    "    try:\n",
    "        nome_venditore = doc.select(\"div.publisher_info > h2\")[0].text.replace('\\n', ' ').strip()\n",
    "    except:\n",
    "        nome_venditore = \"N/A\"\n",
    "    try: \n",
    "        phone = doc.select(\"div#contact-actions-container\")[0][\"data-prop-phone\"]\n",
    "    except:\n",
    "        phone = 'N/A'\n",
    "    try: \n",
    "        userId = doc.select(\"div#user_info_container\")[0][\"data-user-id\"]\n",
    "    except:\n",
    "        userId = 'N/A'\n",
    "    id_ad = doc.select(\"main\")[0][\"data-id\"]\n",
    "    date_ad = doc.select(\"time\")[0][\"datetime\"]\n",
    "    dettagli_row.update({'id': id_ad, 'descrizione': descrizione,  'nome_venditore': nome_venditore,\n",
    "                        'phone': phone, 'date_ad': date_ad, 'userId':userId, 'email' : email})\n",
    "    table = doc.select(\"div.summary > table \")[0]\n",
    "    new_table = pd.DataFrame(columns=range(0,2), index = [0]) \n",
    "    row_marker = 0\n",
    "    for row in table.find_all('tr'):\n",
    "        columns = row.find_all('td')\n",
    "        label = columns[0].text.replace('\\n', ' ').strip()\n",
    "        value = columns[1].text.replace('\\n', ' ').strip()\n",
    "        dettagli_row.update({label:value})\n",
    "    ## geocoding\n",
    "    lat = \"\"\n",
    "    lon = \"\"\n",
    "    try:\n",
    "        key = \"T4eqDjtnpzWsfeMBZgKAqKobvcICurpU\"\n",
    "        geocode_url = f\"http://www.mapquestapi.com/geocoding/v1/address?key={key}&location={dettagli_row.get('Comune').split(' ')[0]}\"\n",
    "        response = requests.get(geocode_url)\n",
    "        geo = json.loads(response.text)\n",
    "        lat = geo['results'][0]['locations'][0]['latLng']['lat']\n",
    "        lon = geo['results'][0]['locations'][0]['latLng']['lng']\n",
    "    except:\n",
    "        pass\n",
    "    dettagli_row.update({\"lat\": lat, \"lon\": lon})\n",
    "    #scarico le immagini\n",
    "    imgs = doc.select(\"img\")\n",
    "    i = 0\n",
    "    for img in imgs:\n",
    "        src = img['src']\n",
    "        if src.find(\"logo_print.png\") < 0:\n",
    "            img_file = requests.get(src, stream=True)\n",
    "            if img_file.status_code == 200:\n",
    "                with open(\"./img_subito/img_\" + str(id_ad) + \"_\" + str(i) + \".jpg\", 'wb') as f:\n",
    "                    f.write(img_file.content)\n",
    "                i = i+1\n",
    "    dettagli.append(dettagli_row)"
   ]
  },
  {
   "cell_type": "code",
   "execution_count": 22,
   "metadata": {},
   "outputs": [
    {
     "data": {
      "text/html": [
       "<div>\n",
       "<style>\n",
       "    .dataframe thead tr:only-child th {\n",
       "        text-align: right;\n",
       "    }\n",
       "\n",
       "    .dataframe thead th {\n",
       "        text-align: left;\n",
       "    }\n",
       "\n",
       "    .dataframe tbody tr th {\n",
       "        vertical-align: top;\n",
       "    }\n",
       "</style>\n",
       "<table border=\"1\" class=\"dataframe\">\n",
       "  <thead>\n",
       "    <tr style=\"text-align: right;\">\n",
       "      <th></th>\n",
       "      <th>Comune</th>\n",
       "      <th>Prezzo</th>\n",
       "      <th>Tipologia</th>\n",
       "      <th>date_ad</th>\n",
       "      <th>descrizione</th>\n",
       "      <th>email</th>\n",
       "      <th>id</th>\n",
       "      <th>lat</th>\n",
       "      <th>lon</th>\n",
       "      <th>nome_venditore</th>\n",
       "      <th>phone</th>\n",
       "      <th>userId</th>\n",
       "    </tr>\n",
       "  </thead>\n",
       "  <tbody>\n",
       "    <tr>\n",
       "      <th>0</th>\n",
       "      <td>Brescia (BS)</td>\n",
       "      <td>275 €</td>\n",
       "      <td>Cellulari e Smartphone</td>\n",
       "      <td>2019-06-19 10:05:23</td>\n",
       "      <td>Come vendo mio IPhone 7 usato  Completo di tut...</td>\n",
       "      <td></td>\n",
       "      <td>300878677</td>\n",
       "      <td>45.539835</td>\n",
       "      <td>10.219534</td>\n",
       "      <td>Privato</td>\n",
       "      <td>3333636009</td>\n",
       "      <td>101377125</td>\n",
       "    </tr>\n",
       "    <tr>\n",
       "      <th>1</th>\n",
       "      <td>Romano di Lombardia (BG)</td>\n",
       "      <td>460 €</td>\n",
       "      <td>Cellulari e Smartphone</td>\n",
       "      <td>2019-06-19 10:00:14</td>\n",
       "      <td>Vendo iPhone 8 rosso, ha una crepa dietro ma l...</td>\n",
       "      <td></td>\n",
       "      <td>300877611</td>\n",
       "      <td>44.059145</td>\n",
       "      <td>12.563105</td>\n",
       "      <td>Amin</td>\n",
       "      <td>3510802549</td>\n",
       "      <td>102370508</td>\n",
       "    </tr>\n",
       "    <tr>\n",
       "      <th>2</th>\n",
       "      <td>Varese (VA)</td>\n",
       "      <td>200 €</td>\n",
       "      <td>Cellulari e Smartphone</td>\n",
       "      <td>2019-06-19 09:59:28</td>\n",
       "      <td>Vendo IPhone 6s 16GB Gold perfettamente funzio...</td>\n",
       "      <td></td>\n",
       "      <td>300877472</td>\n",
       "      <td>45.839713</td>\n",
       "      <td>8.754158</td>\n",
       "      <td>Christian</td>\n",
       "      <td>N/A</td>\n",
       "      <td>2539466</td>\n",
       "    </tr>\n",
       "    <tr>\n",
       "      <th>3</th>\n",
       "      <td>Busto Arsizio (VA)</td>\n",
       "      <td>350 €</td>\n",
       "      <td>Cellulari e Smartphone</td>\n",
       "      <td>2019-06-19 09:58:24</td>\n",
       "      <td>Vendo iPhone 7 Plus nero con ben 128gb. Perfet...</td>\n",
       "      <td></td>\n",
       "      <td>300877282</td>\n",
       "      <td>42.549089</td>\n",
       "      <td>-2.242041</td>\n",
       "      <td>Max</td>\n",
       "      <td>N/A</td>\n",
       "      <td>22187676</td>\n",
       "    </tr>\n",
       "    <tr>\n",
       "      <th>4</th>\n",
       "      <td>Legnano (MI)</td>\n",
       "      <td>229 €</td>\n",
       "      <td>Cellulari e Smartphone</td>\n",
       "      <td>2019-06-19 09:56:04</td>\n",
       "      <td>Nuovo!! con scontrino valido per la garanzia d...</td>\n",
       "      <td></td>\n",
       "      <td>300876918</td>\n",
       "      <td>45.594699</td>\n",
       "      <td>8.918360</td>\n",
       "      <td>Gianni</td>\n",
       "      <td>3774746058</td>\n",
       "      <td>4561897</td>\n",
       "    </tr>\n",
       "  </tbody>\n",
       "</table>\n",
       "</div>"
      ],
      "text/plain": [
       "                     Comune Prezzo               Tipologia  \\\n",
       "0              Brescia (BS)  275 €  Cellulari e Smartphone   \n",
       "1  Romano di Lombardia (BG)  460 €  Cellulari e Smartphone   \n",
       "2               Varese (VA)  200 €  Cellulari e Smartphone   \n",
       "3        Busto Arsizio (VA)  350 €  Cellulari e Smartphone   \n",
       "4              Legnano (MI)  229 €  Cellulari e Smartphone   \n",
       "\n",
       "               date_ad                                        descrizione  \\\n",
       "0  2019-06-19 10:05:23  Come vendo mio IPhone 7 usato  Completo di tut...   \n",
       "1  2019-06-19 10:00:14  Vendo iPhone 8 rosso, ha una crepa dietro ma l...   \n",
       "2  2019-06-19 09:59:28  Vendo IPhone 6s 16GB Gold perfettamente funzio...   \n",
       "3  2019-06-19 09:58:24  Vendo iPhone 7 Plus nero con ben 128gb. Perfet...   \n",
       "4  2019-06-19 09:56:04  Nuovo!! con scontrino valido per la garanzia d...   \n",
       "\n",
       "  email         id        lat        lon nome_venditore       phone     userId  \n",
       "0        300878677  45.539835  10.219534        Privato  3333636009  101377125  \n",
       "1        300877611  44.059145  12.563105           Amin  3510802549  102370508  \n",
       "2        300877472  45.839713   8.754158      Christian         N/A    2539466  \n",
       "3        300877282  42.549089  -2.242041            Max         N/A   22187676  \n",
       "4        300876918  45.594699   8.918360         Gianni  3774746058    4561897  "
      ]
     },
     "execution_count": 22,
     "metadata": {},
     "output_type": "execute_result"
    }
   ],
   "source": [
    "ds_dettagli = pd.DataFrame(dettagli)\n",
    "ds_dettagli.set_index(\"id\")\n",
    "ds_dettagli.head()"
   ]
  },
  {
   "cell_type": "code",
   "execution_count": 23,
   "metadata": {},
   "outputs": [
    {
     "name": "stdout",
     "output_type": "stream",
     "text": [
      "<class 'pandas.core.frame.DataFrame'>\n",
      "RangeIndex: 5 entries, 0 to 4\n",
      "Data columns (total 12 columns):\n",
      "Comune            5 non-null object\n",
      "Prezzo            5 non-null object\n",
      "Tipologia         5 non-null object\n",
      "date_ad           5 non-null object\n",
      "descrizione       5 non-null object\n",
      "email             5 non-null object\n",
      "id                5 non-null object\n",
      "lat               5 non-null float64\n",
      "lon               5 non-null float64\n",
      "nome_venditore    5 non-null object\n",
      "phone             5 non-null object\n",
      "userId            5 non-null object\n",
      "dtypes: float64(2), object(10)\n",
      "memory usage: 560.0+ bytes\n"
     ]
    }
   ],
   "source": [
    "ds_dettagli.info()"
   ]
  },
  {
   "cell_type": "code",
   "execution_count": 24,
   "metadata": {},
   "outputs": [],
   "source": [
    "ds_dettagli.to_csv(\"./subito_it_dettagli.csv\")"
   ]
  }
 ],
 "metadata": {
  "kernelspec": {
   "display_name": "Python 3",
   "language": "python",
   "name": "python3"
  },
  "language_info": {
   "codemirror_mode": {
    "name": "ipython",
    "version": 3
   },
   "file_extension": ".py",
   "mimetype": "text/x-python",
   "name": "python",
   "nbconvert_exporter": "python",
   "pygments_lexer": "ipython3",
   "version": "3.6.3"
  }
 },
 "nbformat": 4,
 "nbformat_minor": 2
}
